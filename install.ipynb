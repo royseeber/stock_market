{
 "cells": [
  {
   "cell_type": "code",
   "execution_count": 1,
   "metadata": {},
   "outputs": [
    {
     "name": "stdout",
     "output_type": "stream",
     "text": [
      "Collecting mibian\n",
      "  Downloading mibian-0.1.3.tar.gz (3.6 kB)\n",
      "Building wheels for collected packages: mibian\n",
      "  Building wheel for mibian (setup.py) ... \u001b[?25ldone\n",
      "\u001b[?25h  Created wheel for mibian: filename=mibian-0.1.3-py3-none-any.whl size=4036 sha256=24e308cf8a542451839d84ee7e472b7f7aa20afe2751b1bf3f026cd4ccd0f466\n",
      "  Stored in directory: /home/jupyter/.cache/pip/wheels/08/cb/29/aa93727d55a1ad489c71765d7f9c6b44ed46931dab5c64e659\n",
      "Successfully built mibian\n",
      "Installing collected packages: mibian\n",
      "Successfully installed mibian-0.1.3\n",
      "Note: you may need to restart the kernel to use updated packages.\n",
      "Requirement already satisfied: scipy in /opt/conda/lib/python3.7/site-packages (1.5.0)\n",
      "Requirement already satisfied: numpy>=1.14.5 in /opt/conda/lib/python3.7/site-packages (from scipy) (1.19.0)\n",
      "Note: you may need to restart the kernel to use updated packages.\n"
     ]
    }
   ],
   "source": [
    "%pip install mibian\n",
    "%pip install scipy"
   ]
  }
 ],
 "metadata": {
  "environment": {
   "name": "tf2-gpu.2-1.m50",
   "type": "gcloud",
   "uri": "gcr.io/deeplearning-platform-release/tf2-gpu.2-1:m50"
  },
  "kernelspec": {
   "display_name": "Python 3",
   "language": "python",
   "name": "python3"
  },
  "language_info": {
   "codemirror_mode": {
    "name": "ipython",
    "version": 3
   },
   "file_extension": ".py",
   "mimetype": "text/x-python",
   "name": "python",
   "nbconvert_exporter": "python",
   "pygments_lexer": "ipython3",
   "version": "3.7.6"
  }
 },
 "nbformat": 4,
 "nbformat_minor": 4
}
