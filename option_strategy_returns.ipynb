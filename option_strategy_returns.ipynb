{
 "cells": [
  {
   "cell_type": "markdown",
   "metadata": {},
   "source": [
    "### Calculate returns across all strike prices for all strategies\n",
    "#### Option Returns Data Elements\n",
    "- option_strategy\n",
    "- entry_date\n",
    "- moneyness_buy_to_open_call\n",
    "- moneyness_sell_to_open_call\n",
    "- moneyness_buy_to_open_put\n",
    "- moneyness_sell_to_open_put\n",
    "- pct_return\n",
    "- market_direction\n",
    "- sampling_key\n",
    "\n",
    "Moneyness refers to the probability that the strike price that was bought or sold will close in the money on expiry date.\n",
    "<br/>\n",
    " Each strategy will have its own output file and only the moneyness fields relevent to the strategy will be saved\n",
    "\n",
    "#### The following csv files will be created\n",
    "- buy_call_returns\n",
    "- buy_put_returns\n",
    "- buy_call_spread_returns\n",
    "- buy_put_spread_returns\n",
    "- sell_call_spread_returns\n",
    "- sell_put_spread_returns\n",
    "\n"
   ]
  },
  {
   "cell_type": "code",
   "execution_count": 1,
   "metadata": {},
   "outputs": [],
   "source": [
    "import pandas as pd\n",
    "import csv\n",
    "import datetime\n",
    "from google.cloud import storage\n",
    "import os\n",
    "\n",
    "BUCKET_NAME = 'expiry-week-data'"
   ]
  },
  {
   "cell_type": "code",
   "execution_count": 2,
   "metadata": {},
   "outputs": [],
   "source": [
    "#upload file to Google Cloud Storage \n",
    "def upload_blob(source_file_path):\n",
    "    \"\"\"Upload a file to Cloud Storage bucket.\"\"\"\n",
    "    \n",
    "    filename = os.path.basename(source_file_path)\n",
    "    destination_blob_name = \"analytics/{}\".format(filename)\n",
    " \n",
    "    storage_client = storage.Client()\n",
    "    bucket = storage_client.bucket(BUCKET_NAME)\n",
    "    blob = bucket.blob(destination_blob_name)\n",
    "\n",
    "    blob.upload_from_filename(source_file_path)\n",
    "\n",
    "    print(\n",
    "        \"File {} uploaded to {}.\".format(\n",
    "            source_file_path, destination_blob_name\n",
    "        )\n",
    "    )\n"
   ]
  },
  {
   "cell_type": "markdown",
   "metadata": {},
   "source": [
    "#### Strategy: Buy Call"
   ]
  },
  {
   "cell_type": "code",
   "execution_count": 152,
   "metadata": {},
   "outputs": [],
   "source": [
    "def buy_call_return(entry_call_ask, exit_call_price):\n",
    "    \"\"\"calculate percentage return\"\"\"\n",
    "    if exit_call_price == 0:\n",
    "        return -100.0\n",
    "    pct_return = round((exit_call_price - entry_call_ask) / entry_call_ask * 100, 0)\n",
    "    return pct_return\n"
   ]
  },
  {
   "cell_type": "code",
   "execution_count": 165,
   "metadata": {},
   "outputs": [],
   "source": [
    "def buy_call():\n",
    "    \"\"\"\n",
    "    Calculate returns for Buy Call Strategy\n",
    "    - assign a moneyness bucket to each entry from .10 through to .90\n",
    "    - for each moneyness bucket, keep only the strike price with the moneyness closest to the bucket value\n",
    "    - we are dropping the .05 and .95 buckets as they could be sparsely populated \n",
    "    \"\"\"\n",
    "    spy_1wk_options = pd.read_csv('data/spy_1wk_options.csv', parse_dates=['entry_date', 'exit_date', 'expiry_date'])\n",
    "    spy_1wk_options['moneyness_bucket'] = (spy_1wk_options['entry_call_moneyness'] * 1000 - spy_1wk_options['entry_call_moneyness'] * 1000 % 50) / 1000\n",
    "    near_bucket_strikes = spy_1wk_options.groupby(['entry_date', 'moneyness_bucket'])['strike_price'].max().to_frame(name='strike_price').reset_index()\n",
    "    sample_strikes = pd.merge(spy_1wk_options, near_bucket_strikes, how='inner', on=['entry_date', 'moneyness_bucket','strike_price'])\n",
    "    sample_strikes['pct_return'] = sample_strikes.apply(lambda x: buy_call_return(x['entry_call_ask'], x['exit_call_price']), axis=1)\n",
    "\n",
    "    return sample_strikes\n",
    "\n",
    "    filepath = 'data/buy_call_returns.csv'\n",
    "    \n",
    "    with open(filepath, 'w', newline='') as f:\n",
    "        out_csv = csv.writer(f)\n",
    "        columns = ['entry_date', 'moneyness_bucket', 'pct_return', 'market_direction', 'sampling_key']\n",
    "        \n",
    "        out_csv.writerow(columns)\n",
    "        \n",
    "        for row in sample_strikes.itertuples():\n",
    "            if row.moneyness_bucket >= .1 and row.moneyness_bucket <= .90:\n",
    "                record = [\n",
    "                    datetime.datetime.date(row.entry_date),\n",
    "                    round(row.moneyness_bucket * 100, 0),\n",
    "                    row.pct_return,\n",
    "                    row.market_direction,\n",
    "                    row.sampling_key]\n",
    "\n",
    "                out_csv.writerow(record) \n",
    "            \n",
    "        #upload file to Google Cloud Storage\n",
    "        upload_blob(filepath)\n",
    "    \n",
    "#run function\n",
    "#buy_call()\n",
    "    "
   ]
  },
  {
   "cell_type": "markdown",
   "metadata": {},
   "source": [
    "#### Strategy: Buy Put\n",
    "\n",
    "\n",
    "\n",
    "\n",
    "\n",
    "\n",
    "\n",
    "\n",
    "\n",
    "\n",
    "\n"
   ]
  },
  {
   "cell_type": "code",
   "execution_count": 157,
   "metadata": {},
   "outputs": [],
   "source": [
    "def buy_put_return(entry_put_ask, exit_put_price):\n",
    "    \"\"\"calculate percentage return\"\"\"\n",
    "    if exit_put_price == 0:\n",
    "        return -100.0\n",
    "    pct_return = round((exit_put_price - entry_put_ask) / entry_put_ask * 100, 0)\n",
    "    return pct_return"
   ]
  },
  {
   "cell_type": "code",
   "execution_count": 7,
   "metadata": {},
   "outputs": [
    {
     "name": "stdout",
     "output_type": "stream",
     "text": [
      "File data/buy_put_returns.csv uploaded to analytics/buy_put_returns.csv.\n"
     ]
    }
   ],
   "source": [
    "def buy_put():\n",
    "    \"\"\"\n",
    "    Calculate returns for Buy Put Strategy    \n",
    "    \"\"\"\n",
    "    spy_1wk_options = pd.read_csv('data/spy_1wk_options.csv', parse_dates=['entry_date', 'exit_date', 'expiry_date'])\n",
    "    spy_1wk_options['pct_return'] = spy_1wk_options.apply(lambda x: buy_put_return(x['entry_put_ask'], x['exit_put_price']), axis=1)\n",
    "    filepath = 'data/buy_put_returns.csv'\n",
    "    \n",
    "    with open(filepath, 'w', newline='') as f:\n",
    "        out_csv = csv.writer(f)\n",
    "        columns = ['entry_date', 'moneyness_buy_to_open_put', 'pct_return', 'market_direction', 'sampling_key']\n",
    "        \n",
    "        out_csv.writerow(columns)\n",
    "        \n",
    "        for row in spy_1wk_options.itertuples():\n",
    "            record = [\n",
    "                datetime.datetime.date(row.entry_date),\n",
    "                round(row.entry_put_moneyness, 3),\n",
    "                row.pct_return,\n",
    "                row.market_direction,\n",
    "                row.sampling_key]\n",
    "            out_csv.writerow(record)    \n",
    "            \n",
    "        #upload file to Google Cloud Storage\n",
    "        upload_blob(filepath)\n",
    "    \n",
    "#run function\n",
    "#buy_put()"
   ]
  },
  {
   "cell_type": "markdown",
   "metadata": {},
   "source": [
    "#### Strategy: Buy Call Spread"
   ]
  },
  {
   "cell_type": "code",
   "execution_count": 158,
   "metadata": {
    "scrolled": true
   },
   "outputs": [],
   "source": [
    "def buy_call_spread_return(entry_buy_strike_ask, entry_sell_strike_bid, exit_buy_strike_price, exit_sell_strike_price):\n",
    "    \"\"\"calculate percentage return\"\"\"\n",
    "    if exit_buy_strike_price == 0:\n",
    "        return -100.0\n",
    "    spread_cost = entry_buy_strike_ask - entry_sell_strike_bid\n",
    "    spread_proceeds = exit_buy_strike_price - exit_sell_strike_price\n",
    "    pct_return = round((spread_proceeds - spread_cost) / spread_cost * 100, 0)\n",
    "    return pct_return"
   ]
  },
  {
   "cell_type": "code",
   "execution_count": 9,
   "metadata": {},
   "outputs": [
    {
     "name": "stdout",
     "output_type": "stream",
     "text": [
      "File data/buy_call_spread_returns.csv uploaded to analytics/buy_call_spread_returns.csv.\n"
     ]
    }
   ],
   "source": [
    "def buy_call_spread():\n",
    "    \"\"\"\n",
    "    Calculate returns for Buy Call Spread Strategy\n",
    "    \"\"\"\n",
    "    spy_1wk_options = pd.read_csv('data/spy_1wk_options.csv', parse_dates=['entry_date', 'exit_date', 'expiry_date'])\n",
    "    entry_dates = spy_1wk_options['entry_date'].unique()\n",
    "    filepath = 'data/buy_call_spread_returns.csv'\n",
    "    \n",
    "    with open(filepath, 'w', newline='') as f:\n",
    "        out_csv = csv.writer(f)\n",
    "        columns = ['entry_date', 'moneyness_buy_to_open_call', 'moneyness_sell_to_open_call',\n",
    "            'pct_return', 'market_direction', 'sampling_key']\n",
    "        \n",
    "        out_csv.writerow(columns)\n",
    "    \n",
    "        for entry_date in entry_dates:\n",
    "            option_set = spy_1wk_options[spy_1wk_options['entry_date'] == entry_date]\n",
    "            row_count = option_set.shape[0]\n",
    "\n",
    "            #pair each strike price record with every other strike price record\n",
    "            for i in range(row_count):\n",
    "                for j in range(i + 1, row_count):\n",
    "                    buy_strike_record = option_set.iloc[i]\n",
    "                    sell_strike_record = option_set.iloc[j]\n",
    "                    \n",
    "                    pct_return = buy_call_spread_return(\n",
    "                            buy_strike_record['entry_call_ask'],\n",
    "                            sell_strike_record['entry_call_bid'],\n",
    "                            buy_strike_record['exit_call_price'],\n",
    "                            sell_strike_record['exit_call_price'])\n",
    "\n",
    "                    record = [\n",
    "                        datetime.datetime.date(buy_strike_record['entry_date']),\n",
    "                        round(buy_strike_record['entry_call_moneyness'], 3),\n",
    "                        round(sell_strike_record['entry_call_moneyness'], 3),\n",
    "                        pct_return,\n",
    "                        buy_strike_record['market_direction'],\n",
    "                        buy_strike_record['sampling_key']]\n",
    "                    out_csv.writerow(record)   \n",
    "                    \n",
    "        #upload file to Google Cloud Storage\n",
    "        upload_blob(filepath)\n",
    "\n",
    "#run function\n",
    "buy_call_spread()\n",
    "                    "
   ]
  },
  {
   "cell_type": "code",
   "execution_count": 162,
   "metadata": {},
   "outputs": [],
   "source": [
    "test = pd.read_csv('data/buy_call_returns.csv')\n",
    "test.head()\n",
    "max_id = test['pct_return'].idxmax()"
   ]
  },
  {
   "cell_type": "code",
   "execution_count": 176,
   "metadata": {},
   "outputs": [
    {
     "data": {
      "text/plain": [
       "entry_date              2017-12-29 00:00:00\n",
       "exit_date               2018-01-05 00:00:00\n",
       "expiry_date             2018-01-05 00:00:00\n",
       "strike_price                            269\n",
       "entry_stock_price                    266.94\n",
       "entry_atm_price                      266.27\n",
       "entry_atm_iv                          0.061\n",
       "entry_call_bid                         0.09\n",
       "entry_call_ask                          0.1\n",
       "entry_call_moneyness                  0.113\n",
       "entry_put_bid                          2.68\n",
       "entry_put_ask                          2.92\n",
       "entry_put_moneyness                   0.887\n",
       "exit_stock_price                      273.4\n",
       "exit_call_price                         4.4\n",
       "exit_put_price                            0\n",
       "market_direction                  Strong Up\n",
       "sampling_key                          0.442\n",
       "moneyness_bucket                        0.1\n",
       "pct_return                             4300\n",
       "Name: 1929, dtype: object"
      ]
     },
     "execution_count": 176,
     "metadata": {},
     "output_type": "execute_result"
    }
   ],
   "source": [
    "sample_strikes = buy_call()\n",
    "test2 = sample_strikes[sample_strikes['entry_date'] == '2017-12-29']\n",
    "test2.iloc[12]"
   ]
  }
 ],
 "metadata": {
  "environment": {
   "name": "common-cpu.m56",
   "type": "gcloud",
   "uri": "gcr.io/deeplearning-platform-release/base-cpu:m56"
  },
  "kernelspec": {
   "display_name": "Python 3",
   "language": "python",
   "name": "python3"
  },
  "language_info": {
   "codemirror_mode": {
    "name": "ipython",
    "version": 3
   },
   "file_extension": ".py",
   "mimetype": "text/x-python",
   "name": "python",
   "nbconvert_exporter": "python",
   "pygments_lexer": "ipython3",
   "version": "3.7.8"
  }
 },
 "nbformat": 4,
 "nbformat_minor": 4
}
