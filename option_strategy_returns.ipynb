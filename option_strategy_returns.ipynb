{
 "cells": [
  {
   "cell_type": "markdown",
   "metadata": {},
   "source": [
    "### Calculate returns across all strike prices for all strategies\n",
    "#### Option Returns Data Elements\n",
    "- option_strategy\n",
    "- entry_date\n",
    "- moneyness_buy_to_open_call\n",
    "- moneyness_sell_to_open_call\n",
    "- moneyness_buy_to_open_put\n",
    "- moneyness_sell_to_open_put\n",
    "- pct_return\n",
    "- market_direction\n",
    "- sampling_key\n",
    "\n",
    "Moneyness refers to the probability that the strike price that was bought or sold will close in the money on expiry date.\n",
    "<br/>\n",
    " Each strategy will have its own output file and only the moneyness fields relevent to the strategy will be saved\n",
    "\n",
    "#### The following csv files will be created\n",
    "- buy_call_returns\n",
    "- buy_put_returns\n",
    "- buy_call_spread_returns\n",
    "- buy_put_spread_returns\n",
    "- sell_call_spread_returns\n",
    "- sell_put_spread_returns\n",
    "\n"
   ]
  },
  {
   "cell_type": "code",
   "execution_count": 57,
   "metadata": {},
   "outputs": [],
   "source": [
    "import pandas as pd\n",
    "import csv\n",
    "import datetime\n",
    "from google.cloud import storage\n",
    "import os\n",
    "\n",
    "BUCKET_NAME = 'expiry-week-data'"
   ]
  },
  {
   "cell_type": "markdown",
   "metadata": {},
   "source": [
    "#### Shared Functions"
   ]
  },
  {
   "cell_type": "code",
   "execution_count": 58,
   "metadata": {},
   "outputs": [],
   "source": [
    "#upload file to Google Cloud Storage \n",
    "def upload_blob(source_file_path):\n",
    "    \"\"\"Upload a file to Cloud Storage bucket.\"\"\"\n",
    "    \n",
    "    filename = os.path.basename(source_file_path)\n",
    "    destination_blob_name = \"analytics/{}\".format(filename)\n",
    " \n",
    "    storage_client = storage.Client()\n",
    "    bucket = storage_client.bucket(BUCKET_NAME)\n",
    "    blob = bucket.blob(destination_blob_name)\n",
    "\n",
    "    blob.upload_from_filename(source_file_path)\n",
    "\n",
    "    print(\n",
    "        \"File {} uploaded to {}.\".format(\n",
    "            source_file_path, destination_blob_name\n",
    "        )\n",
    "    )\n"
   ]
  },
  {
   "cell_type": "code",
   "execution_count": 59,
   "metadata": {},
   "outputs": [],
   "source": [
    "def buy_option_return(entry_strike_ask, exit_strike_bid):\n",
    "    \"\"\"calculate percentage return for a simple option purchase\"\"\"\n",
    "    pct_return = round((exit_strike_bid - entry_strike_ask) / entry_strike_ask, 3)\n",
    "    return pct_return"
   ]
  },
  {
   "cell_type": "code",
   "execution_count": 60,
   "metadata": {},
   "outputs": [],
   "source": [
    "def buy_spread_return(entry_buy_strike_ask, entry_sell_strike_bid, exit_buy_strike_bid, exit_sell_strike_ask):\n",
    "    \"\"\"calculate percentage return for a vertical spread\"\"\"\n",
    "    cost = entry_buy_strike_ask - entry_sell_strike_bid\n",
    "    proceeds = exit_buy_strike_bid - exit_sell_strike_ask\n",
    "    pct_return = round((proceeds - cost) / cost, 3)\n",
    "    return pct_return"
   ]
  },
  {
   "cell_type": "code",
   "execution_count": 81,
   "metadata": {},
   "outputs": [],
   "source": [
    "def sell_spread_return(buy_strike, sell_strike, entry_buy_strike_ask, entry_sell_strike_bid, exit_buy_strike_bid, exit_sell_strike_ask):\n",
    "    \"\"\"\n",
    "    calculate percentage return for a vertical credit spread\n",
    "     - proceeds will be the initial net credit received less the value of the spread at close out\n",
    "    \"\"\"\n",
    "    net_credit = entry_sell_strike_bid - entry_buy_strike_ask\n",
    "    margin = abs(buy_strike - sell_strike) - net_credit\n",
    "    close_out_cost = exit_sell_strike_ask - exit_buy_strike_bid\n",
    "    pct_return =  round((net_credit - close_out_cost) / margin, 3)\n",
    "    return pct_return"
   ]
  },
  {
   "cell_type": "code",
   "execution_count": 83,
   "metadata": {},
   "outputs": [],
   "source": [
    "def iron_condor_return(call_buy_strike, call_sell_strike, put_buy_strike, put_sell_strike,\n",
    "    entry_call_buy_strike_ask, entry_call_sell_strike_bid, entry_put_buy_strike_ask, entry_put_sell_strike_bid,\n",
    "    exit_call_buy_strike_bid, exit_call_sell_strike_ask, exit_put_buy_strike_bid, exit_put_sell_strike_ask):\n",
    "    \"\"\"\n",
    "    calculate percentage return for an iron condor spread\n",
    "     - proceeds will be the initial net credit received less the value of each leg of the spread at close out\n",
    "    \"\"\"\n",
    "    net_credit = (entry_call_sell_strike_bid + entry_put_sell_strike_bid) - (entry_call_buy_strike_ask + entry_put_sell_strike_ask)\n",
    "    call_strike_diff = call_buy_strike - call_sell_strike\n",
    "    put_strike_diff = put_sell_strike - put_buy_strike\n",
    "    margin = max(call_strike_diff, put_strike_diff) - net_credit\n",
    "    close_out_cost = (exit_call_sell_strike_ask - exit_call_buy_strike_bid) + (exit_put_sell_strike_ask - exit_put_buy_strike_bid)\n",
    "    pct_return = round((net_credit - close_out_cost) / margin, 3)\n",
    "    return pct_return"
   ]
  },
  {
   "cell_type": "code",
   "execution_count": 63,
   "metadata": {},
   "outputs": [],
   "source": [
    "def get_moneyness_bucket_options(option_type):\n",
    "    \"\"\"\n",
    "    parameters:\n",
    "    option_type = call | put\n",
    "    - assign a moneyness bucket to each option record from .10 through to .90 in increments of .05\n",
    "    - drop .95 bucket as anything above this was dropped during the data capture process\n",
    "    - drop .05 bucket as these will have fewer responses as a result of some options not getting a meaningful bid (also for symetry reasons)\n",
    "    - for each moneyness bucket, keep only the strike price with the moneyness closest to the bucket value\n",
    "    - sort options by strike price within entry dates (ascending for calls and decending)\n",
    "    \"\"\"\n",
    "    moneyness_column = 'entry_call_moneyness'\n",
    "    strike_ascending = True\n",
    "    if option_type == 'put':\n",
    "        moneyness_column = 'entry_put_moneyness'\n",
    "        strike_ascending = False\n",
    "       \n",
    "    spy_1wk_options = pd.read_csv('data/spy_1wk_options.csv', parse_dates=['entry_date', 'exit_date', 'expiry_date'])\n",
    "    spy_1wk_options['moneyness_bucket'] = (spy_1wk_options[moneyness_column] * 1000 - spy_1wk_options[moneyness_column] * 1000 % 50) / 1000\n",
    "    near_bucket_strikes = spy_1wk_options.groupby(['entry_date', 'moneyness_bucket'])['strike_price'].max().to_frame(name='strike_price').reset_index()\n",
    "    sample_strikes = pd.merge(spy_1wk_options, near_bucket_strikes, how='inner', on=['entry_date', 'moneyness_bucket','strike_price'])\n",
    "    sample_strikes = sample_strikes[(sample_strikes['moneyness_bucket'] > .05) & (sample_strikes['moneyness_bucket'] < .95)]\n",
    "    sample_strikes = sample_strikes.sort_values(['entry_date', 'strike_price'], ascending=[True, strike_ascending]).reset_index(drop=True)\n",
    "    return sample_strikes\n",
    "    "
   ]
  },
  {
   "cell_type": "markdown",
   "metadata": {},
   "source": [
    "#### Strategy: Buy Call"
   ]
  },
  {
   "cell_type": "code",
   "execution_count": 11,
   "metadata": {},
   "outputs": [
    {
     "name": "stdout",
     "output_type": "stream",
     "text": [
      "File data/buy_call_returns.csv uploaded to analytics/buy_call_returns.csv.\n"
     ]
    }
   ],
   "source": [
    "def buy_call():\n",
    "    \"\"\"\n",
    "    Calculate returns for Buy Call Strategy\n",
    "    \"\"\"\n",
    "    sample_strikes = get_moneyness_bucket_options('call')\n",
    "    sample_strikes['pct_return'] = sample_strikes.apply(lambda x: buy_option_return(x['entry_call_ask'], x['exit_call_price']), axis=1)\n",
    "    \n",
    "    filepath = 'data/buy_call_returns.csv'\n",
    "    \n",
    "    with open(filepath, 'w', newline='') as f:\n",
    "        out_csv = csv.writer(f)\n",
    "        columns = ['entry_date', 'buy_strike_bucket', 'pct_return', 'win', 'loss', 'market_direction', 'sampling_key']\n",
    "        \n",
    "        out_csv.writerow(columns)\n",
    "        \n",
    "        for row in sample_strikes.itertuples():\n",
    "                  \n",
    "            #assign win and loss flags\n",
    "            win = 1\n",
    "            loss = 0\n",
    "            if row.pct_return < 0:\n",
    "                win = 0\n",
    "                loss = 1\n",
    "\n",
    "            record = [\n",
    "                datetime.datetime.date(row.entry_date),\n",
    "                round(row.moneyness_bucket * 100, 0),\n",
    "                row.pct_return,\n",
    "                win,\n",
    "                loss,\n",
    "                row.market_direction,\n",
    "                row.sampling_key]\n",
    "\n",
    "            out_csv.writerow(record) \n",
    "            \n",
    "        #upload file to Google Cloud Storage\n",
    "        upload_blob(filepath)\n",
    "    \n",
    "#run function\n",
    "buy_call()\n",
    "    "
   ]
  },
  {
   "cell_type": "markdown",
   "metadata": {},
   "source": [
    "#### Strategy: Buy Put\n",
    "\n",
    "\n",
    "\n",
    "\n",
    "\n",
    "\n",
    "\n",
    "\n",
    "\n",
    "\n",
    "\n"
   ]
  },
  {
   "cell_type": "code",
   "execution_count": 13,
   "metadata": {},
   "outputs": [
    {
     "name": "stdout",
     "output_type": "stream",
     "text": [
      "File data/buy_put_returns.csv uploaded to analytics/buy_put_returns.csv.\n"
     ]
    }
   ],
   "source": [
    "def buy_put():\n",
    "    \"\"\"\n",
    "    Calculate returns for Buy Put Strategy\n",
    "    \"\"\"\n",
    "    sample_strikes = get_moneyness_bucket_options('put')\n",
    "    sample_strikes['pct_return'] = sample_strikes.apply(lambda x: buy_option_return(x['entry_put_ask'], x['exit_put_price']), axis=1)\n",
    "   \n",
    "    filepath = 'data/buy_put_returns.csv'\n",
    "    \n",
    "    with open(filepath, 'w', newline='') as f:\n",
    "        out_csv = csv.writer(f)\n",
    "        columns = ['entry_date', 'buy_strike_bucket', 'pct_return', 'win', 'loss', 'market_direction', 'sampling_key']\n",
    "        \n",
    "        out_csv.writerow(columns)\n",
    "        \n",
    "        for row in sample_strikes.itertuples():\n",
    "                \n",
    "            #assign win and loss flags\n",
    "            win = 1\n",
    "            loss = 0\n",
    "            if row.pct_return < 0:\n",
    "                win = 0\n",
    "                loss = 1\n",
    "\n",
    "            record = [\n",
    "                datetime.datetime.date(row.entry_date),\n",
    "                round(row.moneyness_bucket * 100, 0),\n",
    "                row.pct_return,\n",
    "                win,\n",
    "                loss,\n",
    "                row.market_direction,\n",
    "                row.sampling_key]\n",
    "\n",
    "            out_csv.writerow(record) \n",
    "\n",
    "        #upload file to Google Cloud Storage\n",
    "        upload_blob(filepath)\n",
    "    \n",
    "#run function\n",
    "buy_put()"
   ]
  },
  {
   "cell_type": "markdown",
   "metadata": {},
   "source": [
    "#### Strategy: Buy Call Spread"
   ]
  },
  {
   "cell_type": "code",
   "execution_count": 14,
   "metadata": {},
   "outputs": [
    {
     "name": "stdout",
     "output_type": "stream",
     "text": [
      "File data/buy_call_spread_returns.csv uploaded to analytics/buy_call_spread_returns.csv.\n"
     ]
    }
   ],
   "source": [
    "def buy_call_spread():\n",
    "    \"\"\"\n",
    "    Calculate returns for Buy Call Spread Strategy\n",
    "    \"\"\"\n",
    "    sample_strikes = get_moneyness_bucket_options('call')\n",
    "    filepath = 'data/buy_call_spread_returns.csv'\n",
    "    \n",
    "    with open(filepath, 'w', newline='') as f:\n",
    "        out_csv = csv.writer(f)\n",
    "        columns = ['entry_date', 'buy_strike_bucket', 'sell_strike_bucket',\n",
    "            'pct_return', 'win', 'loss', 'market_direction', 'sampling_key']\n",
    "        \n",
    "        out_csv.writerow(columns)\n",
    "        \n",
    "        entry_dates = sample_strikes['entry_date'].unique()\n",
    "    \n",
    "        for entry_date in entry_dates:\n",
    "            option_set = sample_strikes[sample_strikes['entry_date'] == entry_date]\n",
    "            row_count = option_set.shape[0]\n",
    "\n",
    "            #pair each strike price record with every other strike price record\n",
    "            for i in range(row_count):\n",
    "                for j in range(i + 1, row_count):\n",
    " \n",
    "                    buy_strike_record = option_set.iloc[i]\n",
    "                    sell_strike_record = option_set.iloc[j]\n",
    "\n",
    "                    pct_return = buy_spread_return(\n",
    "                            buy_strike_record['entry_call_ask'],\n",
    "                            sell_strike_record['entry_call_bid'],\n",
    "                            buy_strike_record['exit_call_price'],\n",
    "                            sell_strike_record['exit_call_price'])\n",
    "\n",
    "                    #assign win and loss flags\n",
    "                    win = 1\n",
    "                    loss = 0\n",
    "                    if pct_return < 0:\n",
    "                        win = 0\n",
    "                        loss = 1\n",
    "\n",
    "                    record = [\n",
    "                        datetime.datetime.date(buy_strike_record['entry_date']),\n",
    "                        round(buy_strike_record['moneyness_bucket'] * 100, 0),\n",
    "                        round(sell_strike_record['moneyness_bucket'] * 100, 0),\n",
    "                        pct_return,\n",
    "                        win,\n",
    "                        loss,\n",
    "                        buy_strike_record['market_direction'],\n",
    "                        buy_strike_record['sampling_key']]\n",
    "                    out_csv.writerow(record)   \n",
    "                    \n",
    "        #upload file to Google Cloud Storage\n",
    "        upload_blob(filepath)\n",
    "\n",
    "#run function\n",
    "buy_call_spread()\n",
    "                    "
   ]
  },
  {
   "cell_type": "markdown",
   "metadata": {},
   "source": [
    "#### Strategy: Buy Put Spread"
   ]
  },
  {
   "cell_type": "code",
   "execution_count": 16,
   "metadata": {},
   "outputs": [
    {
     "name": "stdout",
     "output_type": "stream",
     "text": [
      "File data/buy_put_spread_returns.csv uploaded to analytics/buy_put_spread_returns.csv.\n"
     ]
    }
   ],
   "source": [
    "def buy_put_spread():\n",
    "    \"\"\"\n",
    "    Calculate returns for Buy Put Strategy\n",
    "    \"\"\"\n",
    "    sample_strikes = get_moneyness_bucket_options('put')\n",
    "    filepath = 'data/buy_put_spread_returns.csv'\n",
    "    \n",
    "    with open(filepath, 'w', newline='') as f:\n",
    "        out_csv = csv.writer(f)\n",
    "        columns = ['entry_date', 'buy_strike_bucket', 'sell_strike_bucket',\n",
    "            'pct_return', 'win', 'loss', 'market_direction', 'sampling_key']\n",
    "        \n",
    "        out_csv.writerow(columns)\n",
    "        \n",
    "        entry_dates = sample_strikes['entry_date'].unique()\n",
    "    \n",
    "        for entry_date in entry_dates:\n",
    "            option_set = sample_strikes[sample_strikes['entry_date'] == entry_date]\n",
    "            row_count = option_set.shape[0]\n",
    "\n",
    "            #pair each strike price record with every other strike price record\n",
    "            for i in range(row_count):\n",
    "                for j in range(i + 1, row_count):\n",
    "\n",
    "                    buy_strike_record = option_set.iloc[i]\n",
    "                    sell_strike_record = option_set.iloc[j]\n",
    "\n",
    "                    pct_return = buy_spread_return(\n",
    "                            buy_strike_record['entry_put_ask'],\n",
    "                            sell_strike_record['entry_put_bid'],\n",
    "                            buy_strike_record['exit_put_price'],\n",
    "                            sell_strike_record['exit_put_price'])\n",
    "\n",
    "                    #assign win and loss flags\n",
    "                    win = 1\n",
    "                    loss = 0\n",
    "                    if pct_return < 0:\n",
    "                        win = 0\n",
    "                        loss = 1\n",
    "\n",
    "                    record = [\n",
    "                        datetime.datetime.date(buy_strike_record['entry_date']),\n",
    "                        round(buy_strike_record['moneyness_bucket'] * 100, 0),\n",
    "                        round(sell_strike_record['moneyness_bucket'] * 100, 0),\n",
    "                        pct_return,\n",
    "                        win,\n",
    "                        loss,\n",
    "                        buy_strike_record['market_direction'],\n",
    "                        buy_strike_record['sampling_key']]\n",
    "                    out_csv.writerow(record)   \n",
    "                    \n",
    "        #upload file to Google Cloud Storage\n",
    "        upload_blob(filepath)\n",
    "\n",
    "#run function\n",
    "buy_put_spread()"
   ]
  },
  {
   "cell_type": "markdown",
   "metadata": {},
   "source": [
    "#### Strategy Sell Call Spread"
   ]
  },
  {
   "cell_type": "code",
   "execution_count": 64,
   "metadata": {},
   "outputs": [
    {
     "name": "stdout",
     "output_type": "stream",
     "text": [
      "File data/sell_call_spread_returns.csv uploaded to analytics/sell_call_spread_returns.csv.\n"
     ]
    }
   ],
   "source": [
    "def sell_call_spread():\n",
    "    \"\"\"\n",
    "    Calculate returns for Sell Call Spread Strategy\n",
    "    \"\"\"\n",
    "    sample_strikes = get_moneyness_bucket_options('call')\n",
    "    filepath = 'data/sell_call_spread_returns.csv'\n",
    "    \n",
    "    with open(filepath, 'w', newline='') as f:\n",
    "        out_csv = csv.writer(f)\n",
    "        columns = ['entry_date', 'buy_strike_bucket', 'sell_strike_bucket',\n",
    "            'pct_return', 'win', 'loss', 'market_direction', 'sampling_key']\n",
    "        \n",
    "        out_csv.writerow(columns)\n",
    "        \n",
    "        entry_dates = sample_strikes['entry_date'].unique()\n",
    "    \n",
    "        for entry_date in entry_dates:\n",
    "            option_set = sample_strikes[sample_strikes['entry_date'] == entry_date]\n",
    "            row_count = option_set.shape[0]\n",
    "\n",
    "            #pair each strike price record with every other strike price record\n",
    "            for i in range(row_count):\n",
    "                for j in range(i + 1, row_count):\n",
    " \n",
    "                    sell_strike_record = option_set.iloc[i]\n",
    "                    buy_strike_record = option_set.iloc[j]\n",
    " \n",
    "                    pct_return = sell_spread_return(\n",
    "                            buy_strike_record['strike_price'],\n",
    "                            sell_strike_record['strike_price'],\n",
    "                            buy_strike_record['entry_call_ask'],\n",
    "                            sell_strike_record['entry_call_bid'],\n",
    "                            buy_strike_record['exit_call_price'],\n",
    "                            sell_strike_record['exit_call_price'])\n",
    "\n",
    "                    #assign win and loss flags\n",
    "                    win = 1\n",
    "                    loss = 0\n",
    "                    if pct_return < 0:\n",
    "                        win = 0\n",
    "                        loss = 1\n",
    "\n",
    "                    record = [\n",
    "                        datetime.datetime.date(buy_strike_record['entry_date']),\n",
    "                        round(buy_strike_record['moneyness_bucket'] * 100, 0),\n",
    "                        round(sell_strike_record['moneyness_bucket'] * 100, 0),\n",
    "                        pct_return,\n",
    "                        win,\n",
    "                        loss,\n",
    "                        buy_strike_record['market_direction'],\n",
    "                        buy_strike_record['sampling_key']]\n",
    "                    out_csv.writerow(record)   \n",
    "                    \n",
    "        #upload file to Google Cloud Storage\n",
    "        upload_blob(filepath)\n",
    "\n",
    "#run function\n",
    "sell_call_spread()\n",
    "                    "
   ]
  },
  {
   "cell_type": "markdown",
   "metadata": {},
   "source": [
    "#### Strategy Sell Put Spread"
   ]
  },
  {
   "cell_type": "code",
   "execution_count": 89,
   "metadata": {},
   "outputs": [
    {
     "name": "stdout",
     "output_type": "stream",
     "text": [
      "File data/sell_put_spread_returns.csv uploaded to analytics/sell_put_spread_returns.csv.\n"
     ]
    }
   ],
   "source": [
    "def sell_put_spread():\n",
    "    \"\"\"\n",
    "    Calculate returns for Sell Put Spread Strategy\n",
    "    \"\"\"\n",
    "    sample_strikes = get_moneyness_bucket_options('put')\n",
    "    filepath = 'data/sell_put_spread_returns.csv'\n",
    "    \n",
    "    with open(filepath, 'w', newline='') as f:\n",
    "        out_csv = csv.writer(f)\n",
    "        columns = ['entry_date', 'buy_strike_bucket', 'sell_strike_bucket',\n",
    "            'pct_return', 'win', 'loss', 'market_direction', 'sampling_key']\n",
    "        \n",
    "        out_csv.writerow(columns)\n",
    "        \n",
    "        entry_dates = sample_strikes['entry_date'].unique()\n",
    "    \n",
    "        for entry_date in entry_dates:\n",
    "            option_set = sample_strikes[sample_strikes['entry_date'] == entry_date]\n",
    "            row_count = option_set.shape[0]\n",
    "\n",
    "            #pair each strike price record with every other strike price record\n",
    "            for i in range(row_count):\n",
    "                for j in range(i + 1, row_count):\n",
    " \n",
    "                    sell_strike_record = option_set.iloc[i]\n",
    "                    buy_strike_record = option_set.iloc[j]\n",
    " \n",
    "                    pct_return = sell_spread_return(\n",
    "                            buy_strike_record['strike_price'],\n",
    "                            sell_strike_record['strike_price'],\n",
    "                            buy_strike_record['entry_put_ask'],\n",
    "                            sell_strike_record['entry_put_bid'],\n",
    "                            buy_strike_record['exit_put_price'],\n",
    "                            sell_strike_record['exit_put_price'])\n",
    "\n",
    "                    #assign win and loss flags\n",
    "                    win = 1\n",
    "                    loss = 0\n",
    "                    if pct_return < 0:\n",
    "                        win = 0\n",
    "                        loss = 1\n",
    "\n",
    "                    record = [\n",
    "                        datetime.datetime.date(buy_strike_record['entry_date']),\n",
    "                        round(buy_strike_record['moneyness_bucket'] * 100, 0),\n",
    "                        round(sell_strike_record['moneyness_bucket'] * 100, 0),\n",
    "                        pct_return,\n",
    "                        win,\n",
    "                        loss,\n",
    "                        buy_strike_record['market_direction'],\n",
    "                        buy_strike_record['sampling_key']]\n",
    "                    out_csv.writerow(record)   \n",
    "                    \n",
    "        #upload file to Google Cloud Storage\n",
    "        upload_blob(filepath)\n",
    "\n",
    "#run function\n",
    "sell_put_spread()"
   ]
  },
  {
   "cell_type": "code",
   "execution_count": 92,
   "metadata": {},
   "outputs": [
    {
     "data": {
      "text/plain": [
       "25431"
      ]
     },
     "execution_count": 92,
     "metadata": {},
     "output_type": "execute_result"
    }
   ],
   "source": [
    "test = pd.read_csv('data/sell_put_spread_returns.csv')\n",
    "idx = test['pct_return'].idxmax()\n",
    "idx"
   ]
  },
  {
   "cell_type": "code",
   "execution_count": 93,
   "metadata": {},
   "outputs": [
    {
     "data": {
      "text/plain": [
       "entry_date            2020-04-03\n",
       "buy_strike_bucket             85\n",
       "sell_strike_bucket            90\n",
       "pct_return                13.286\n",
       "win                            1\n",
       "loss                           0\n",
       "market_direction       Strong Up\n",
       "sampling_key               0.915\n",
       "Name: 25431, dtype: object"
      ]
     },
     "execution_count": 93,
     "metadata": {},
     "output_type": "execute_result"
    }
   ],
   "source": [
    "test.iloc[idx]"
   ]
  }
 ],
 "metadata": {
  "environment": {
   "name": "common-cpu.m56",
   "type": "gcloud",
   "uri": "gcr.io/deeplearning-platform-release/base-cpu:m56"
  },
  "kernelspec": {
   "display_name": "Python 3",
   "language": "python",
   "name": "python3"
  },
  "language_info": {
   "codemirror_mode": {
    "name": "ipython",
    "version": 3
   },
   "file_extension": ".py",
   "mimetype": "text/x-python",
   "name": "python",
   "nbconvert_exporter": "python",
   "pygments_lexer": "ipython3",
   "version": "3.7.8"
  }
 },
 "nbformat": 4,
 "nbformat_minor": 4
}
