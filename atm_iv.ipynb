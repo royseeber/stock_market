{
 "cells": [
  {
   "cell_type": "markdown",
   "metadata": {},
   "source": [
    "## Adjust stock price such that call and put implied Volatility (IV) are the same\n",
    "- calculate IV for nearest strike for both put and call\n",
    "- if put IV > call IV then reduce stock price by the difference between put and call implied Volatility\n",
    "- else if call IV > put IV then increase stock price by the difference between call and put implied Volatility\n",
    "- keep adjusting stock price up or down by half the previous adjustment until call and put IV are about the same\n",
    "\n",
    "Reason for IV differences between calls and puts is that the stock will normally drop by an amount slightly less than the dividend on xDividend date. Call IV should never by higher than put IV but we will allow for this unusual case (would be equivalent to a reverse dividend)\n"
   ]
  },
  {
   "cell_type": "code",
   "execution_count": 11,
   "metadata": {},
   "outputs": [],
   "source": [
    "import datetime\n",
    "import math\n",
    "import mibian"
   ]
  },
  {
   "cell_type": "code",
   "execution_count": 12,
   "metadata": {},
   "outputs": [],
   "source": [
    "def calc_call_iv(stock_price, strike_price, interest_rate, days_to_expiry, call_price):\n",
    "    \"\"\"\n",
    "    calculate the implied volatility of a call option\n",
    "    - return implied volatility relative to days_to_expiry (instead of annualized value)\n",
    "    \"\"\"\n",
    "    bs = mibian.BS([stock_price, strike_price, interest_rate, days_to_expiry], callPrice=call_price)\n",
    "    return bs.impliedVolatility / 100 * math.sqrt(days_to_expiry / 365) \n"
   ]
  },
  {
   "cell_type": "code",
   "execution_count": 13,
   "metadata": {},
   "outputs": [],
   "source": [
    "def calc_put_iv(stock_price, strike_price, interest_rate, days_to_expiry, put_price):\n",
    "    \"\"\"\n",
    "    calculate the implied volatility of a put option\n",
    "    - return implied volatility relative to days_to_expiry (instead of annualized value)\n",
    "    \"\"\"\n",
    "    bs = mibian.BS([stock_price, strike_price, interest_rate, days_to_expiry], putPrice=put_price)\n",
    "    return bs.impliedVolatility / 100 * math.sqrt(days_to_expiry / 365)"
   ]
  },
  {
   "cell_type": "code",
   "execution_count": 16,
   "metadata": {
    "tags": []
   },
   "outputs": [],
   "source": [
    "def center_stock_price(stock_price, strike_price, interest_rate, days_to_expiry, call_price, put_price):\n",
    "    \"\"\"\n",
    "    calculate equilibrium implied volatility and the adjusted stock price at which it is acheived\n",
    "    this is the stock price at which both call and put implied volatility are equal\n",
    "    note: interest_rate needs be passed as a percent (e.g 5 = 5%)\n",
    "    \"\"\"\n",
    "    #get starting call and put implied volatility\n",
    "    call_iv = calc_call_iv(stock_price, strike_price, interest_rate, days_to_expiry, call_price)\n",
    "    put_iv = calc_put_iv(stock_price, strike_price, interest_rate, days_to_expiry, put_price)\n",
    "    iv_diff = abs(put_iv - call_iv)\n",
    "\n",
    "    adj_lower = stock_price  * math.exp(-iv_diff) \n",
    "    adj_upper = stock_price  * math.exp(iv_diff)\n",
    "    if put_iv > call_iv:\n",
    "        #stock price is above equilibrium price\n",
    "        adj_stock_price = (stock_price + adj_lower) / 2\n",
    "    else:\n",
    "        #stock price is below equilibrium price\n",
    "        adj_stock_price = (stock_price + adj_upper) / 2\n",
    "\n",
    "    adj_stock_price = stock_price \n",
    "    for i in range(100):\n",
    "        call_iv = calc_call_iv(adj_stock_price, strike_price, interest_rate, days_to_expiry, call_price)\n",
    "        put_iv = calc_put_iv(adj_stock_price, strike_price, interest_rate, days_to_expiry, put_price)\n",
    "        iv_diff = abs(put_iv - call_iv)\n",
    "\n",
    "        if iv_diff <= .0001:\n",
    "            return adj_stock_price, call_iv, put_iv\n",
    "        \n",
    "        if put_iv > call_iv:\n",
    "            #adjusted stock price is to high\n",
    "            adj_upper = adj_stock_price\n",
    "        else:\n",
    "            #adjusted stock price is to low\n",
    "            adj_lower = adj_stock_price\n",
    "       \n",
    "        adj_stock_price = (adj_lower + adj_upper) / 2\n",
    "\n",
    "    #throw error if convergence was not achieved\n",
    "    raise Exception(\"Put and Call implied volatilities did not converge\")\n",
    "        \n",
    "        "
   ]
  },
  {
   "cell_type": "code",
   "execution_count": 17,
   "metadata": {
    "tags": []
   },
   "outputs": [
    {
     "name": "stdout",
     "output_type": "stream",
     "text": [
      "adj_stock_price:320.2628225436524, call_iv:0.1072379482191231, put_iv:0.10725602914109562\n"
     ]
    }
   ],
   "source": [
    "#spy quote for July 28, 2020\n",
    "#next xDividend date is September 18, 2020 (amount: 1.37)\n",
    "\n",
    "stock_price = 321.20\n",
    "quote_date = datetime.datetime(2020, 7, 28)\n",
    "expiry_date =  datetime.datetime(2020, 10, 18)\n",
    "strike_price = 321.0\n",
    "call_bid = 13.31\n",
    "call_ask = 13.38\n",
    "put_bid = 14.05\n",
    "put_ask = 14.12\n",
    "interest_rate = 0 #use fed funds rate\n",
    "call_price = (call_ask + call_bid) / 2\n",
    "put_price =(put_bid + put_ask) / 2\n",
    "days_to_expiry = (expiry_date -  quote_date).days \n",
    "\n",
    "adj_stock_price, call_iv, put_iv = center_stock_price(stock_price, strike_price, interest_rate, \\\n",
    "     days_to_expiry, call_price, put_price)\n",
    "\n",
    "print(\"adj_stock_price:{0}, call_iv:{1}, put_iv:{2}\".format(adj_stock_price, call_iv, put_iv))\n",
    "\n"
   ]
  },
  {
   "cell_type": "code",
   "execution_count": null,
   "metadata": {},
   "outputs": [],
   "source": []
  },
  {
   "cell_type": "code",
   "execution_count": null,
   "metadata": {},
   "outputs": [],
   "source": []
  }
 ],
 "metadata": {
  "environment": {
   "name": "tf2-gpu.2-1.m50",
   "type": "gcloud",
   "uri": "gcr.io/deeplearning-platform-release/tf2-gpu.2-1:m50"
  },
  "kernelspec": {
   "display_name": "Python 3",
   "language": "python",
   "name": "python3"
  },
  "language_info": {
   "codemirror_mode": {
    "name": "ipython",
    "version": 3
   },
   "file_extension": ".py",
   "mimetype": "text/x-python",
   "name": "python",
   "nbconvert_exporter": "python",
   "pygments_lexer": "ipython3",
   "version": "3.7.6"
  }
 },
 "nbformat": 4,
 "nbformat_minor": 4
}
