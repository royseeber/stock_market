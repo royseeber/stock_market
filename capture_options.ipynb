{
 "cells": [
  {
   "cell_type": "markdown",
   "metadata": {},
   "source": [
    "## Transform an input file and load it into BigQuery\n",
    "- Calcualte equilibrium stock price where call and put implied volatility are equal\n",
    "- Calculate moneyness for all strikes within +- 2 standard deviations of equilibrium price\n",
    "- Calculate implied volatility of all strkes filtered above\n",
    "- generate json formatted output\n",
    "- write output file to bigquery"
   ]
  },
  {
   "cell_type": "markdown",
   "metadata": {},
   "source": [
    "## Codebase"
   ]
  },
  {
   "cell_type": "code",
   "execution_count": 60,
   "metadata": {},
   "outputs": [],
   "source": [
    "#declare dependencies and constants\n",
    "import pandas as pd\n",
    "import datetime"
   ]
  },
  {
   "cell_type": "code",
   "execution_count": 26,
   "metadata": {},
   "outputs": [],
   "source": [
    "#process data for an exiry date\n",
    "def process_expiry_date(df_expiry):\n",
    "    \"\"\"\n",
    "    read and process options for a given expiry \n",
    "    df_daily is a dataset containing data for 1 quote date\n",
    "    sdate is a string of the form mm/dd/yyyy\n",
    "    \"\"\"\n",
    "    #find nearest strike price\n",
    "    \n",
    "    \n",
    "    \n",
    "    \n",
    "    \n",
    "    \n",
    "    "
   ]
  },
  {
   "cell_type": "code",
   "execution_count": 59,
   "metadata": {},
   "outputs": [],
   "source": [
    "def process_quote_date(df_daily):\n",
    "    \"\"\"\n",
    "    process options for a given quote date\n",
    "    \"\"\"\n",
    "    #get list of expiry dates\n",
    "    expiry_dates = df_daily['expiry_date'].unique()\n",
    "    \n",
    "    #process each expiry date\n",
    "    for expiry_date in expiry_dates:\n",
    "        df_expiry = df_daily[dfi_daily['expiry_date'] == expiry_date].reset_index(drop=True)\n",
    "        process_expiry_date(df_expiry)\n",
    "\n",
    "    "
   ]
  },
  {
   "cell_type": "code",
   "execution_count": 19,
   "metadata": {},
   "outputs": [],
   "source": [
    "def main(file_path):\n",
    "    \"\"\"\n",
    "    file path is path to options input file\n",
    "    example: gs://expiry-week-data/options/options/SPY_2020.csv\n",
    "    \"\"\"\n",
    "    #load file into a dataframe\n",
    "    input_columns = [0,1,5,6,7,8,10,11,12,13]\n",
    "\n",
    "    column_names = ['underlying_symbol', 'underlying_price', 'option_type', 'expiry_date', 'data_date',\n",
    "        'strike_price', 'bid', 'ask', 'volume', 'open_interest']\n",
    "\n",
    "    df_options = pd.read_csv(file_path, usecols=input_columns, names=column_names, header=0, parse_dates=[3,4])\n",
    "    \n",
    "    #get unique list of quote dates\n",
    "    quote_dates = df['quotedate'].unique()\n",
    "    \n",
    "    #process each quote date\n",
    "    for quote_date in quote_dates:\n",
    "        df_daily = df[df['quote_date'] == quote_date]\n",
    "        process_quote_date(df_daily)\n",
    "    \n",
    "    \n",
    "    "
   ]
  },
  {
   "cell_type": "markdown",
   "metadata": {},
   "source": [
    "## Code Exploration Section"
   ]
  },
  {
   "cell_type": "code",
   "execution_count": null,
   "metadata": {},
   "outputs": [],
   "source": [
    "#load sample options file from cloud storage\n",
    " #load file into a dataframe\n",
    "file_path  = 'gs://expiry-week-data/options/sample_20200103.csv'\n",
    "input_columns = [0,1,5,6,7,8,10,11,12,13]\n",
    "\n",
    "column_names = ['underlying_symbol', 'underlying_price', 'option_type', 'expiry_date', 'data_date',\n",
    "    'strike_price', 'bid', 'ask', 'volume', 'open_interest']\n",
    "\n",
    "df_options = pd.read_csv(file_path, usecols=input_columns, names=column_names, header=0, parse_dates=[3,4])\n",
    "\n",
    "#get set of options for one expiry date for the sample quote date\n",
    "df_expiry = df_options[df_options['expiry_date'] == '2020-01-10'].reset_index(drop=True)\n",
    "df_expiry.head() \n",
    "\n",
    "\n"
   ]
  }
 ],
 "metadata": {
  "environment": {
   "name": "common-cpu.m54",
   "type": "gcloud",
   "uri": "gcr.io/deeplearning-platform-release/base-cpu:m54"
  },
  "kernelspec": {
   "display_name": "Python 3",
   "language": "python",
   "name": "python3"
  },
  "language_info": {
   "codemirror_mode": {
    "name": "ipython",
    "version": 3
   },
   "file_extension": ".py",
   "mimetype": "text/x-python",
   "name": "python",
   "nbconvert_exporter": "python",
   "pygments_lexer": "ipython3",
   "version": "3.7.8"
  }
 },
 "nbformat": 4,
 "nbformat_minor": 4
}
