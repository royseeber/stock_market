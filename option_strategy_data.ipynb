{
 "cells": [
  {
   "cell_type": "markdown",
   "metadata": {},
   "source": [
    "### Option Strategy Evaluation (Module 1)\n",
    "Calculate returns across all permutations for various option strategies using the SPY BigQuery Dataset. The results can then be compared using a Data Visualization Tool to determine the optimal place at which to position strike prices. Returns will be calculated for the following strategies.\n",
    "- Buy Call\n",
    "- Buy Put\n",
    "- Buy Call Spread\n",
    "- Buy Put Spread\n",
    "- Write Call Spread\n",
    "- Write Put Spread\n",
    "- Write Iron Condor\n",
    "\n",
    "The holding period for all calculations will be 1 week and the expiry date will be 1 week out as well.\n",
    "\n",
    "The above option strategies fall into 1 of 3 categories; Bullish, Bearish and Neutral. Choosing a strategy therefore implies an expectation as to the future behavior of the underlying stock. In order to evaluate trades in the context of this expectation, we need to identify the direction in which the market moved for each week in the study. The market_direction field will be derived as follows using the At-The-Money Implied Volatility.\n",
    "- Strong Up - up more than the average expected move (upper 25% of a Normal Distribution)\n",
    "- Neutral Up - up less than the average expected move (between 0% and upper 25% of a Normal Distribution)\n",
    "- Neutral Down - down less than the average expected move (between 0% and lower 25% of a Normal Distribution)\n",
    "- Strong Down - down more than the average expected move (lower 25% of a Normal Distribution)\n",
    "\n",
    "The BigQuery SPY table has a sampling_key field (random number between 0 and 1) associated with each quote record which will help us determine the various returns that can be expected based on the accuracy of a model. To illustrate, consider a binary model that predicts SPY moving either up or down with a 70% accuracy rate. We could simulate this model by having it make correct predictions 70% of the time. In other words, we would have our simulated model predict that SPY will move up if it did in fact move up and the quote record had a sampling_key greater than .3. Likewise our model would predict that SPY will move down if it did in fact move down and the quote record had a sampling_key greater than .3 (note: 70% of random numbers betweeen 0 and 1 will have a value greater than .3). Using this approach we can simulate the expected returns for arbitrary models with various prediction acurracy rates."
   ]
  },
  {
   "cell_type": "markdown",
   "metadata": {},
   "source": [
    "### Output File Data Elements\n",
    "- entry_date\n",
    "- exit_date\n",
    "- expiry_date\n",
    "- strike_price\n",
    "- entry_stock_price\n",
    "- entry_atm_price\n",
    "- entry_atm_iv\n",
    "- entry_call_bid\n",
    "- entry_call_ask\n",
    "- entry_call_moneyness\n",
    "- entry_put_bid\n",
    "- entry_put_ask\n",
    "- entry_put_moneyness\n",
    "- exit_stock_price\n",
    "- exit_call_price\n",
    "- exit_put_price\n",
    "- market_direction\n",
    "- sampling_key"
   ]
  },
  {
   "cell_type": "code",
   "execution_count": 2,
   "metadata": {},
   "outputs": [],
   "source": [
    "#assign dependencies and constants\n",
    "import pandas as pd\n",
    "import csv\n",
    "import datetime\n",
    "import math\n",
    "from decimal import Decimal"
   ]
  },
  {
   "cell_type": "markdown",
   "metadata": {},
   "source": [
    "### BigQuery SQL Statements"
   ]
  },
  {
   "cell_type": "code",
   "execution_count": 3,
   "metadata": {},
   "outputs": [],
   "source": [
    "%%bigquery bq_spy_1wk\n",
    "-- weekly option entry and exit quotes; 1 week holding period; 1 week to expiry\n",
    "with trade_entry as\n",
    "(\n",
    "select quote_week as entry_week, quote_date as entry_date, expiry_date, days_to_expiry, strike_price, \n",
    "  call_bid as entry_call_bid, call_ask as entry_call_ask, call_moneyness as entry_call_moneyness, \n",
    "  put_bid as entry_put_bid, put_ask as entry_put_ask, put_moneyness as entry_put_moneyness, \n",
    "  underlying_price as entry_stock_price, atm_price as entry_atm_price, atm_iv as entry_atm_iv, sampling_key\n",
    "from expiry-week.option_quotes.SPY, UNNEST(expiry_dates), UNNEST(strike_prices)\n",
    ")\n",
    "select t1.*, t2.quote_date as exit_date, t2.quote_week as exit_week, t2.underlying_price as exit_stock_price\n",
    "from trade_entry t1\n",
    "inner join expiry-week.option_quotes.SPY t2\n",
    "  on t1.entry_week + 1 = t2.quote_week\n",
    "    and t1.expiry_date = t2.quote_date\n",
    "order by t1.entry_week\n"
   ]
  },
  {
   "cell_type": "markdown",
   "metadata": {},
   "source": [
    "### Create Data File for calculating Strategy Returns"
   ]
  },
  {
   "cell_type": "code",
   "execution_count": 4,
   "metadata": {},
   "outputs": [],
   "source": [
    "def derive_market_direction(entry_atm_price, entry_atm_iv, exit_stock_price, days_to_expiry):\n",
    "    \"\"\"\n",
    "    get the direction in which the market moved\n",
    "    \"\"\"\n",
    "    #calculate interquartile range price boundaries\n",
    "    upper_boundary = entry_atm_price * math.exp(entry_atm_iv * .6745 * math.sqrt(days_to_expiry / 365))\n",
    "    lower_boundary = entry_atm_price * math.exp(-entry_atm_iv * .6745 * math.sqrt(days_to_expiry / 365))\n",
    "\n",
    "    if exit_stock_price > upper_boundary:\n",
    "        return 'Strong Up'\n",
    "    \n",
    "    if exit_stock_price < lower_boundary:\n",
    "        return 'Strong Down'\n",
    "    \n",
    "    if exit_stock_price >= entry_atm_price:\n",
    "        return 'Neutral Up'  \n",
    "   \n",
    "    return 'Neutral Down'  \n",
    "   "
   ]
  },
  {
   "cell_type": "code",
   "execution_count": 5,
   "metadata": {},
   "outputs": [],
   "source": [
    "def spy_1wk_options():\n",
    "    \"\"\"\n",
    "    generate evaluation file for options expirng in 1 week\n",
    "    since these options will have expired we will use their intrinsic values in place of exit bid and ask prices\n",
    "    \"\"\"\n",
    "    def call_intrinsic_value(strike_price, stock_price):\n",
    "        if strike_price > stock_price:\n",
    "            return 0\n",
    "        else:\n",
    "            return round(stock_price - strike_price, 2)\n",
    "    \n",
    "    def put_intrinsic_value(strike_price, stock_price):\n",
    "        if strike_price < stock_price:\n",
    "            return 0\n",
    "        else:\n",
    "            return round(strike_price - stock_price, 2)\n",
    "    \n",
    "    #make copy of bigquery generated dataframe and convert objects to proper data types\n",
    "    #note that bigquer returns numeric and date data types as objects\n",
    "    data_types = {'entry_date': 'datetime64', 'expiry_date': 'datetime64', 'strike_price': 'float64',\n",
    "    'entry_call_bid': 'float64', 'entry_call_ask': 'float64', 'entry_call_moneyness': 'float64',\n",
    "    'entry_put_bid': 'float64', 'entry_put_ask': 'float64', 'entry_put_moneyness': 'float64',\n",
    "    'entry_stock_price': 'float64', 'entry_atm_price': 'float64', 'entry_atm_iv': 'float64',\n",
    "    'sampling_key': 'float64', 'exit_date': 'datetime64', 'exit_stock_price': 'float64'}\n",
    "     \n",
    "    df = bq_spy_1wk.astype(data_types)\n",
    "    \n",
    "    #calculated fields\n",
    "    df['call_intrinsic_value'] = df.apply(lambda x: call_intrinsic_value(x['strike_price'], x['exit_stock_price']), axis=1)\n",
    "    df['put_intrinsic_value'] = df.apply(lambda x: put_intrinsic_value(x['strike_price'], x['exit_stock_price']), axis=1)\n",
    "    df['market_direction'] = df.apply(lambda x: derive_market_direction(x['entry_atm_price'], x['entry_atm_iv'], x['exit_stock_price'], x['days_to_expiry']), axis=1)\n",
    "    \n",
    "    #create evaluation file\n",
    "    with open('data/spy_1wk_options.csv', 'w', newline='') as f:\n",
    "        \n",
    "        out_csv = csv.writer(f, lineterminator='\\n')\n",
    "        \n",
    "        columns = ['entry_date', 'exit_date', 'expiry_date','strike_price', 'entry_stock_price', 'entry_atm_price', 'entry_atm_iv', \n",
    "            'entry_call_bid', 'entry_call_ask', 'entry_call_moneyness', 'entry_put_bid', 'entry_put_ask', 'entry_put_moneyness',\n",
    "            'exit_stock_price', 'exit_call_price', 'exit_put_price','market_direction', 'sampling_key']\n",
    "        \n",
    "        out_csv.writerow(columns)\n",
    "       \n",
    "        for row in df.itertuples():\n",
    "            record = [\n",
    "                datetime.datetime.date(row.entry_date),\n",
    "                datetime.datetime.date(row.exit_date),\n",
    "                datetime.datetime.date(row.expiry_date),\n",
    "                round(row.strike_price, 2),           \n",
    "                round(row.entry_stock_price, 2),\n",
    "                round(row.entry_atm_price, 2),\n",
    "                round(row.entry_atm_iv, 3),\n",
    "                round(row.entry_call_bid, 2),\n",
    "                round(row.entry_call_ask, 2),           \n",
    "                round(row.entry_call_moneyness, 3),\n",
    "                round(row.entry_put_bid, 2),\n",
    "                round(row.entry_put_ask, 2),  \n",
    "                round(row.entry_put_moneyness, 3),\n",
    "                round(row.exit_stock_price, 2),\n",
    "                round(row.call_intrinsic_value, 2),\n",
    "                round(row.put_intrinsic_value, 2),\n",
    "                row.market_direction,\n",
    "                round(row.sampling_key, 3)]    \n",
    "            out_csv.writerow(record)\n",
    "\n",
    "#execute function\n",
    "spy_1wk_options()                                                                                                  \n",
    "     "
   ]
  }
 ],
 "metadata": {
  "environment": {
   "name": "common-cpu.m56",
   "type": "gcloud",
   "uri": "gcr.io/deeplearning-platform-release/base-cpu:m56"
  },
  "kernelspec": {
   "display_name": "Python 3",
   "language": "python",
   "name": "python3"
  },
  "language_info": {
   "codemirror_mode": {
    "name": "ipython",
    "version": 3
   },
   "file_extension": ".py",
   "mimetype": "text/x-python",
   "name": "python",
   "nbconvert_exporter": "python",
   "pygments_lexer": "ipython3",
   "version": "3.7.8"
  }
 },
 "nbformat": 4,
 "nbformat_minor": 4
}
