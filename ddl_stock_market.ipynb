{
 "cells": [
  {
   "cell_type": "markdown",
   "metadata": {},
   "source": [
    "### BigQuery Table Definitions for Stock Market Project\n"
   ]
  },
  {
   "cell_type": "code",
   "execution_count": 1,
   "metadata": {},
   "outputs": [],
   "source": [
    "#assign dependencies and constants\n",
    "from google.cloud import bigquery\n"
   ]
  },
  {
   "cell_type": "code",
   "execution_count": 5,
   "metadata": {},
   "outputs": [],
   "source": [
    "def create_option_bq_table(stock_symbol):\n",
    "    \"\"\"\n",
    "    Create a BigQuery table in the stock_options dataset for the supplied symbol\n",
    "    \"\"\"\n",
    "    client = bigquery.Client()\n",
    "    dataset_ref = client.dataset('option_quotes')\n",
    "\n",
    "    schema = [\n",
    "        bigquery.SchemaField(\"quote_date\", \"DATE\", mode=\"REQUIRED\", description=\"market closing date for which the data was captured\"),\n",
    "        bigquery.SchemaField(\"expiry_date\", \"DATE\", mode=\"REQUIRED\", description=\"date on which the options expiry\"),\n",
    "        bigquery.SchemaField(\"days_to_expiry\", \"INT64\", mode=\"REQUIRED\", description=\"calendar days between quote_date and expiry_date not including the quote_date\"),\n",
    "        bigquery.SchemaField(\"underlying_price\", \"NUMERIC\", mode=\"REQUIRED\", description=\"the closing price of the underlying asset\"),\n",
    "        bigquery.SchemaField(\"atm_price\", \"NUMERIC\", mode=\"REQUIRED\", description=\"adjusted underlying price such that the implied volatility of calls an puts are the same\"),\n",
    "        bigquery.SchemaField(\"atm_iv\", \"NUMERIC\", mode=\"REQUIRED\", description=\"the implied volatility for both calls and puts using the atm_price as the current price\"),\n",
    "        bigquery.SchemaField(\n",
    "            \"strike_prices\",\n",
    "            \"RECORD\",\n",
    "            mode=\"REPEATED\",\n",
    "            fields=[\n",
    "                bigquery.SchemaField(\"strike_price\", \"NUMERIC\", mode=\"REQUIRED\", description=\"price at which an option can be excercised\"),\n",
    "                bigquery.SchemaField(\"call_bid\", \"NUMERIC\", mode=\"REQUIRED\", description=\"closing bid price for the call option\"),\n",
    "                bigquery.SchemaField(\"call_ask\", \"NUMERIC\", mode=\"REQUIRED\", description=\"closing ask price for the call option\"),\n",
    "                bigquery.SchemaField(\"call_volume\", \"NUMERIC\", mode=\"REQUIRED\", description=\"number of call contracts traded\"),\n",
    "                bigquery.SchemaField(\"call_open_interest\", \"NUMERIC\", mode=\"REQUIRED\", description=\"number of open call contracts\"),\n",
    "                bigquery.SchemaField(\"call_moneyness\", \"NUMERIC\", mode=\"REQUIRED\", description=\"probability of call option closing in the money on expiry date (based on atm_iv)\"),\n",
    "                bigquery.SchemaField(\"call_iv\", \"NUMERIC\", mode=\"REQUIRED\", description=\"implied volatiity of the call option using the midpoint between the call bid and call ask price\"),\n",
    "                bigquery.SchemaField(\"put_bid\", \"NUMERIC\", mode=\"REQUIRED\", description=\"closing bid price for the put option\"),\n",
    "                bigquery.SchemaField(\"put_ask\", \"NUMERIC\", mode=\"REQUIRED\", description=\"closing ask price for the put option\"),\n",
    "                bigquery.SchemaField(\"put_volume\", \"NUMERIC\", mode=\"REQUIRED\", description=\"number of put contracts traded\"),\n",
    "                bigquery.SchemaField(\"put_open_interest\", \"NUMERIC\", mode=\"REQUIRED\", description=\"number of open call contracts\"),\n",
    "                bigquery.SchemaField(\"put_moneyness\", \"NUMERIC\", mode=\"REQUIRED\", description=\"probability of put option closing in the money on expiry date (based on atm_iv)\"),\n",
    "                bigquery.SchemaField(\"put_iv\", \"NUMERIC\", mode=\"REQUIRED\", description=\"implied volatiity of the put option using the midpoint between the put bid and put ask price\"),\n",
    "            ],\n",
    "        ),\n",
    "        bigquery.SchemaField(\"sampling_key\", \"NUMERIC\", mode=\"REQUIRED\", description=\"a random number between 0 and 1. Facilitates repeatable data sampling without the need for a hash key \")\n",
    "    ]\n",
    "    table_ref = dataset_ref.table(stock_symbol.upper())\n",
    "    table = bigquery.Table(table_ref, schema=schema)\n",
    "    \n",
    "    table.time_partitioning = bigquery.TimePartitioning(\n",
    "        type_=bigquery.TimePartitioningType.DAY,\n",
    "        field=\"quote_date\")\n",
    "   \n",
    "    table = client.create_table(table)  # API request\n",
    "\n",
    "    print(\"Created table {}\".format(table.full_table_id))"
   ]
  },
  {
   "cell_type": "code",
   "execution_count": null,
   "metadata": {},
   "outputs": [],
   "source": [
    "#create database\n",
    "query = \"\"\"\n",
    "\n",
    "\"\"\""
   ]
  },
  {
   "cell_type": "code",
   "execution_count": 14,
   "metadata": {},
   "outputs": [],
   "source": [
    "def create_option_bq_schema(underlying_symbol):\n",
    "    \"\"\"\n",
    "    Create a BigQuery table in the stock_options dataset for the supplied underlying symbol\n",
    "    \"\"\"\n",
    "    schema = \"\"\"\n",
    "        CREATE TABLE IF NOT EXISTS expiry-week.option_quotes.{}\n",
    "        (\n",
    "            quote_date DATE NOT NULL OPTIONS(description=\"market closing date for which the data was captured\"),  \n",
    "            expiry_date DATE NOT NULL OPTIONS(description=\"date on which the options expire\"),\n",
    "            days_to_expiry INT64 NOT NULL OPTIONS(description=\"calendar days between quote_date and expiry_date not including the quote_date\"),\n",
    "            underlying_price NUMERIC NOT NULL OPTIONS(description=\"the closing price of the underlying asset\"),\n",
    "            atm_price NUMERIC NOT NULL OPTIONS(description=\"adjusted underlying price such that the implied volatility of calls an puts are the same\"),\n",
    "            atm_iv NUMERIC NOT NULL OPTIONS(description=\"the implied volatility for both calls and puts using the atm_price as the current price\"),\n",
    "            strike_prices STRUCT\n",
    "            <\n",
    "                strike_price NUMERIC NOT NULL OPTIONS(description=\"price at which an option can be excercised\"),\n",
    "                call_bid NUMERIC NOT NULL OPTIONS(description=\"closing bid price for the call option\"),\n",
    "                call_ask NUMERIC NOT NULL OPTIONS(description=\"closing ask price for the call option\"),\n",
    "                call_volume NUMERIC NOT NULL OPTIONS(description=\"number of call contracts traded\"),\n",
    "                call_open_interest NUMERIC OPTIONS(description=\"number of open call contracts\"),\n",
    "                call_moneyness NUMERIC NOT NULL OPTIONS(description=\"probability of call option closing in the money on expiry date (based on atm_iv)\"),\n",
    "                call_iv NUMERIC NOT NULL OPTIONS(description=\"implied volatiity of the call option using the midpoint between the call bid and call ask price\"),\n",
    "                put_bid NUMERIC NOT NULL OPTIONS(description=\"closing bid price for the put option\"),\n",
    "                put_ask NUMERIC NOT NULL OPTIONS(description=\"closing ask price for the put option\"),\n",
    "                put_volume NUMERIC NOT NULL OPTIONS(description=\"number of put contracts traded\"),\n",
    "                put_open_interest NUMERIC NOT NULL OPTIONS(description=\"number of open call contracts\"),\n",
    "                put_moneyness NUMERIC NOT NULL OPTIONS(description=\"probability of put option closing in the money on expiry date (based on atm_iv)\"),\n",
    "                put_iv NUMERIC NOT NULL OPTIONS(description=\"implied volatiity of the put option using the midpoint between the put bid and put ask price\")\n",
    "            >,\n",
    "            sampling_key NUMERIC NOT NULL OPTIONS(description=\"a random number between 0 and 1. Facilitates repeatable data sampling without the need for a hash key\")\n",
    "        )\n",
    "        PARTITION BY quote_date\n",
    "        CLUSTER BY expiry_date\n",
    "        OPTIONS\n",
    "            (description=\"DAILY STOCK OPTION QUOTES\")\n",
    "        \"\"\"\n",
    "\n",
    "    return schema.format(underlying_symbol)"
   ]
  },
  {
   "cell_type": "code",
   "execution_count": 15,
   "metadata": {},
   "outputs": [
    {
     "name": "stdout",
     "output_type": "stream",
     "text": [
      "\n",
      "        CREATE TABLE IF NOT EXISTS expiry-week.option_quotes.SPY\n",
      "        (\n",
      "            quote_date DATE NOT NULL OPTIONS(description=\"market closing date for which the data was captured\"),  \n",
      "            expiry_date DATE NOT NULL OPTIONS(description=\"date on which the options expire\"),\n",
      "            days_to_expiry INT64 NOT NULL OPTIONS(description=\"calendar days between quote_date and expiry_date not including the quote_date\"),\n",
      "            underlying_price NUMERIC NOT NULL OPTIONS(description=\"the closing price of the underlying asset\"),\n",
      "            atm_price NUMERIC NOT NULL OPTIONS(description=\"adjusted underlying price such that the implied volatility of calls an puts are the same\"),\n",
      "            atm_iv NUMERIC NOT NULL OPTIONS(description=\"the implied volatility for both calls and puts using the atm_price as the current price\"),\n",
      "            strike_prices STRUCT\n",
      "            <\n",
      "                strike_price NUMERIC NOT NULL OPTIONS(description=\"price at which an option can be excercised\"),\n",
      "                call_bid NUMERIC NOT NULL OPTIONS(description=\"closing bid price for the call option\"),\n",
      "                call_ask NUMERIC NOT NULL OPTIONS(description=\"closing ask price for the call option\"),\n",
      "                call_volume NUMERIC NOT NULL OPTIONS(description=\"number of call contracts traded\"),\n",
      "                call_open_interest NUMERIC OPTIONS(description=\"number of open call contracts\"),\n",
      "                call_moneyness NUMERIC NOT NULL OPTIONS(description=\"probability of call option closing in the money on expiry date (based on atm_iv)\"),\n",
      "                call_iv NUMERIC NOT NULL OPTIONS(description=\"implied volatiity of the call option using the midpoint between the call bid and call ask price\"),\n",
      "                put_bid NUMERIC NOT NULL OPTIONS(description=\"closing bid price for the put option\"),\n",
      "                put_ask NUMERIC NOT NULL OPTIONS(description=\"closing ask price for the put option\"),\n",
      "                put_volume NUMERIC NOT NULL OPTIONS(description=\"number of put contracts traded\"),\n",
      "                put_open_interest NUMERIC NOT NULL OPTIONS(description=\"number of open call contracts\"),\n",
      "                put_moneyness NUMERIC NOT NULL OPTIONS(description=\"probability of put option closing in the money on expiry date (based on atm_iv)\"),\n",
      "                put_iv NUMERIC NOT NULL OPTIONS(description=\"implied volatiity of the put option using the midpoint between the put bid and put ask price\")\n",
      "            >,\n",
      "            sampling_key NUMERIC NOT NULL OPTIONS(description=\"a random number between 0 and 1. Facilitates repeatable data sampling without the need for a hash key\")\n",
      "        )\n",
      "        PARTITION BY quote_date\n",
      "        CLUSTER BY expiry_date\n",
      "        OPTIONS\n",
      "            (description=\"DAILY STOCK OPTION QUOTES\")\n",
      "        \n"
     ]
    }
   ],
   "source": [
    "print(create_option_bq_schema(\"SPY\"))"
   ]
  },
  {
   "cell_type": "code",
   "execution_count": 16,
   "metadata": {},
   "outputs": [
    {
     "name": "stderr",
     "output_type": "stream",
     "text": [
      "UsageError: Line magic function `%bq` not found.\n"
     ]
    }
   ],
   "source": [
    "%bq --version"
   ]
  },
  {
   "cell_type": "code",
   "execution_count": null,
   "metadata": {},
   "outputs": [],
   "source": []
  }
 ],
 "metadata": {
  "environment": {
   "name": "tf2-2-3-gpu.2-3.m55",
   "type": "gcloud",
   "uri": "gcr.io/deeplearning-platform-release/tf2-2-3-gpu.2-3:m55"
  },
  "kernelspec": {
   "display_name": "Python 3",
   "language": "python",
   "name": "python3"
  },
  "language_info": {
   "codemirror_mode": {
    "name": "ipython",
    "version": 3
   },
   "file_extension": ".py",
   "mimetype": "text/x-python",
   "name": "python",
   "nbconvert_exporter": "python",
   "pygments_lexer": "ipython3",
   "version": "3.7.8"
  }
 },
 "nbformat": 4,
 "nbformat_minor": 4
}
