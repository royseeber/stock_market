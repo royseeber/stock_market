{
 "cells": [
  {
   "cell_type": "markdown",
   "metadata": {},
   "source": [
    "### BigQuery Table Definitions for Stock Market Project\n"
   ]
  },
  {
   "cell_type": "code",
   "execution_count": 2,
   "metadata": {},
   "outputs": [],
   "source": [
    "#assign dependencies and constants\n",
    "from google.cloud import bigquery\n",
    "\n",
    "PROJECT_ID = 'expiry-week'\n"
   ]
  },
  {
   "cell_type": "code",
   "execution_count": 3,
   "metadata": {},
   "outputs": [],
   "source": [
    "def create_dataset(dataset_name):\n",
    "    \"\"\"create a dataset in the currently assigned project\"\"\"\n",
    "    dataset_id = \"{}.{}\".format(PROJECT_ID, dataset_name)\n",
    "    dataset = bigquery.Dataset(dataset_id)\n",
    "    dataset.location = 'US'\n",
    "    dataset = bq_client.create_dataset(dataset, timeout=30)\n",
    "    print(\"Dataset {} has been created\".format(dataset_id))\n",
    "    "
   ]
  },
  {
   "cell_type": "code",
   "execution_count": 1,
   "metadata": {},
   "outputs": [],
   "source": [
    "def create_option_quotes_table(stock_symbol):\n",
    "    \"\"\"\n",
    "    Create a BigQuery table in the option_quotes dataset for the supplied symbol\n",
    "    \"\"\"\n",
    "    client = bigquery.Client(project= PROJECT_ID)\n",
    "    dataset_ref = client.dataset('option_quotes')\n",
    "\n",
    "    schema = [     \n",
    "        bigquery.SchemaField(\"quote_date\", \"DATE\", mode=\"REQUIRED\", description=\"market closing date for which the data was captured\"),\n",
    "        bigquery.SchemaField(\"quote_week\", \"INT64\", mode=\"REQUIRED\", description=\"week number to which the option quote pertains (2015-01-02 = 1)\"),   \n",
    "        bigquery.SchemaField(\"underlying_price\", \"NUMERIC\", mode=\"REQUIRED\", description=\"the closing price of the underlying asset\"),\n",
    "        bigquery.SchemaField(\"wt_call_volume\", \"NUMERIC\", mode=\"REQUIRED\", description=\"total call volume weighted by moneyness\"),\n",
    "        bigquery.SchemaField(\"wt_put_volume\", \"NUMERIC\", mode=\"REQUIRED\", description=\"total put volume weighted by moneyness\"),\n",
    "        bigquery.SchemaField(\"wt_call_open_interest\", \"NUMERIC\", mode=\"REQUIRED\", description=\"total call open interested weighted by moneyness\"),\n",
    "        bigquery.SchemaField(\"wt_put_open_interest\", \"NUMERIC\", mode=\"REQUIRED\", description=\"total put open interested weighted by moneyness\"),\n",
    "        bigquery.SchemaField(\"sampling_key\", \"NUMERIC\", mode=\"REQUIRED\", description=\"a random number between 0 and 1. Facilitates repeatable data sampling without the need for a hash key \"),\n",
    "        bigquery.SchemaField(\n",
    "            \"expiry_dates\",\n",
    "            \"RECORD\",\n",
    "            mode=\"REPEATED\",\n",
    "            description=\"option expiry dates\",\n",
    "            fields=[\n",
    "                bigquery.SchemaField(\"expiry_date\", \"DATE\", mode=\"REQUIRED\", description=\"date on which the options expire\"),\n",
    "                bigquery.SchemaField(\"days_to_expiry\", \"INT64\", mode=\"REQUIRED\", description=\"number of calendar days between quote_date and expiry_date\"),                \n",
    "                bigquery.SchemaField(\"atm_price\", \"NUMERIC\", mode=\"REQUIRED\", description=\"adjusted underlying price such that the implied volatility of calls and puts are the same\"),\n",
    "                bigquery.SchemaField(\"atm_iv\", \"NUMERIC\", mode=\"REQUIRED\", description=\"the implied volatility for both calls and puts using the atm_price as the current price\"),\n",
    "                bigquery.SchemaField(\"wt_call_volume\", \"NUMERIC\", mode=\"REQUIRED\", description=\"total call volume weighted by moneyness\"),\n",
    "                bigquery.SchemaField(\"wt_put_volume\", \"NUMERIC\", mode=\"REQUIRED\", description=\"total put volume weighted by moneyness\"),\n",
    "                bigquery.SchemaField(\"wt_call_open_interest\", \"NUMERIC\", mode=\"REQUIRED\", description=\"total call open interested weighted by moneyness\"),\n",
    "                bigquery.SchemaField(\"wt_put_open_interest\", \"NUMERIC\", mode=\"REQUIRED\", description=\"total put open interested weighted by moneyness\"),\n",
    "                bigquery.SchemaField(\n",
    "                    \"strike_prices\",\n",
    "                    \"RECORD\",\n",
    "                    mode=\"REPEATED\",\n",
    "                    description=\"strike prices with at least a 5% chance of closing in the money (based on expiry date atm_price)\",\n",
    "                    fields=[\n",
    "                        bigquery.SchemaField(\"strike_price\", \"NUMERIC\", mode=\"REQUIRED\", description=\"price at which an option can be excercised\"),\n",
    "                        bigquery.SchemaField(\"call_bid\", \"NUMERIC\", mode=\"REQUIRED\", description=\"closing bid price for the call option\"),\n",
    "                        bigquery.SchemaField(\"call_ask\", \"NUMERIC\", mode=\"REQUIRED\", description=\"closing ask price for the call option\"),\n",
    "                        bigquery.SchemaField(\"call_moneyness\", \"NUMERIC\", mode=\"REQUIRED\", description=\"probability of call option closing in the money on expiry date (based on atm metrics\"),\n",
    "                        bigquery.SchemaField(\"wt_call_volume\", \"NUMERIC\", mode=\"REQUIRED\", description=\"total call volume weighted by moneyness\"),\n",
    "                        bigquery.SchemaField(\"wt_call_open_interest\", \"NUMERIC\", mode=\"REQUIRED\", description=\"total call open interest weighted by moneyness\"),\n",
    "                        bigquery.SchemaField(\"call_iv\", \"NUMERIC\", mode=\"REQUIRED\", description=\"implied volatiity of the call option using the midpoint between the call bid and ask price\"),\n",
    "                        bigquery.SchemaField(\"put_bid\", \"NUMERIC\", mode=\"REQUIRED\", description=\"closing bid price for the put option\"),\n",
    "                        bigquery.SchemaField(\"put_ask\", \"NUMERIC\", mode=\"REQUIRED\", description=\"closing ask price for the put option\"),\n",
    "                        bigquery.SchemaField(\"put_moneyness\", \"NUMERIC\", mode=\"REQUIRED\", description=\"probability of put option closing in the money on expiry date (based on atm metrics)\"),\n",
    "                        bigquery.SchemaField(\"wt_put_volume\", \"NUMERIC\", mode=\"REQUIRED\", description=\"total put volume weighted by moneyness\"),\n",
    "                        bigquery.SchemaField(\"wt_put_open_interest\", \"NUMERIC\", mode=\"REQUIRED\", description=\"put open interest weighted by moneyness\"),\n",
    "                        bigquery.SchemaField(\"put_iv\", \"NUMERIC\", mode=\"REQUIRED\", description=\"implied volatiity of the put option using the midpoint between the put bid and ask price\")\n",
    "                    ]\n",
    "                )\n",
    "            ]\n",
    "        )\n",
    "    ]\n",
    "            \n",
    "    table_ref = dataset_ref.table(stock_symbol.upper())\n",
    "    table = bigquery.Table(table_ref, schema=schema)\n",
    "     \n",
    "    #table.time_partitioning = bigquery.TimePartitioning(\n",
    "    #   type_=bigquery.TimePartitioningType.DAY,\n",
    "    #   field=\"<partition_date>\")\n",
    "\n",
    "    #table.clustering_fields=[<list=of-field_names>]\n",
    "    \n",
    "    table = client.create_table(table)  # API request\n",
    "\n",
    "    print(\"Created table {}\".format(table.full_table_id))"
   ]
  },
  {
   "cell_type": "code",
   "execution_count": 3,
   "metadata": {},
   "outputs": [
    {
     "name": "stdout",
     "output_type": "stream",
     "text": [
      "Created table expiry-week:option_quotes.SPY\n"
     ]
    }
   ],
   "source": [
    "create_option_quotes_table('SPY')"
   ]
  },
  {
   "cell_type": "code",
   "execution_count": null,
   "metadata": {},
   "outputs": [],
   "source": []
  }
 ],
 "metadata": {
  "environment": {
   "name": "tf2-2-3-gpu.2-3.m55",
   "type": "gcloud",
   "uri": "gcr.io/deeplearning-platform-release/tf2-2-3-gpu.2-3:m55"
  },
  "kernelspec": {
   "display_name": "Python 3",
   "language": "python",
   "name": "python3"
  },
  "language_info": {
   "codemirror_mode": {
    "name": "ipython",
    "version": 3
   },
   "file_extension": ".py",
   "mimetype": "text/x-python",
   "name": "python",
   "nbconvert_exporter": "python",
   "pygments_lexer": "ipython3",
   "version": "3.7.8"
  }
 },
 "nbformat": 4,
 "nbformat_minor": 4
}
