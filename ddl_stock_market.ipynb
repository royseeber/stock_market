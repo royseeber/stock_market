{
 "cells": [
  {
   "cell_type": "markdown",
   "metadata": {},
   "source": [
    "### BigQuery Table Definitions for Stock Market Project\n"
   ]
  },
  {
   "cell_type": "code",
   "execution_count": 28,
   "metadata": {},
   "outputs": [],
   "source": [
    "#assign dependencies and constants\n",
    "from google.cloud import bigquery\n",
    "\n",
    "PROJECT_ID = 'expiry-week'\n",
    "bq_client = bigquery.Client(project=PROJECT_ID)\n"
   ]
  },
  {
   "cell_type": "code",
   "execution_count": 10,
   "metadata": {},
   "outputs": [],
   "source": [
    "def create_dataset(dataset_name):\n",
    "    \"\"\"create a dataset in the currently assigned project\"\"\"\n",
    "    dataset_id = \"{}.{}\".format(PROJECT_ID, dataset_name)\n",
    "    dataset = bigquery.Dataset(dataset_id)\n",
    "    dataset.location = 'US'\n",
    "    dataset = bq_client.create_dataset(dataset, timeout=30)\n",
    "    print(\"Dataset {} has been created\".format(dataset_id))\n",
    "    "
   ]
  },
  {
   "cell_type": "code",
   "execution_count": 32,
   "metadata": {},
   "outputs": [],
   "source": [
    "def create_option_quote_table(underlying_symbol):\n",
    "    \"\"\"\n",
    "    Create a BigQuery table in the option_quotes dataset for the supplied underlying symbol\n",
    "    \"\"\"\n",
    "    schema = \"\"\"\n",
    "        CREATE TABLE IF NOT EXISTS expiry-week.option_quotes.{}\n",
    "        (\n",
    "            quote_date DATE NOT NULL OPTIONS(description=\"market closing date for which the data was captured\"),  \n",
    "            expiry_date DATE NOT NULL OPTIONS(description=\"date on which the options expire\"),\n",
    "            days_to_expiry INT64 NOT NULL OPTIONS(description=\"calendar days between quote_date and expiry_date not including the quote_date\"),\n",
    "            underlying_price NUMERIC NOT NULL OPTIONS(description=\"the closing price of the underlying asset\"),\n",
    "            atm_price NUMERIC NOT NULL OPTIONS(description=\"adjusted underlying price such that the implied volatility of calls an puts are the same\"),\n",
    "            atm_iv NUMERIC NOT NULL OPTIONS(description=\"the implied volatility for both calls and puts using the atm_price as the current price\"),\n",
    "            strike_prices STRUCT\n",
    "            <\n",
    "                strike_price NUMERIC NOT NULL OPTIONS(description=\"price at which an option can be excercised\"),\n",
    "                call_bid NUMERIC NOT NULL OPTIONS(description=\"closing bid price for the call option\"),\n",
    "                call_ask NUMERIC NOT NULL OPTIONS(description=\"closing ask price for the call option\"),\n",
    "                call_volume NUMERIC NOT NULL OPTIONS(description=\"number of call contracts traded\"),\n",
    "                call_open_interest NUMERIC OPTIONS(description=\"number of open call contracts\"),\n",
    "                call_moneyness NUMERIC NOT NULL OPTIONS(description=\"probability of call option closing in the money on expiry date (based on atm_iv)\"),\n",
    "                call_iv NUMERIC NOT NULL OPTIONS(description=\"implied volatiity of the call option using the midpoint between the call bid and call ask price\"),\n",
    "                put_bid NUMERIC NOT NULL OPTIONS(description=\"closing bid price for the put option\"),\n",
    "                put_ask NUMERIC NOT NULL OPTIONS(description=\"closing ask price for the put option\"),\n",
    "                put_volume NUMERIC NOT NULL OPTIONS(description=\"number of put contracts traded\"),\n",
    "                put_open_interest NUMERIC NOT NULL OPTIONS(description=\"number of open call contracts\"),\n",
    "                put_moneyness NUMERIC NOT NULL OPTIONS(description=\"probability of put option closing in the money on expiry date (based on atm_iv)\"),\n",
    "                put_iv NUMERIC NOT NULL OPTIONS(description=\"implied volatiity of the put option using the midpoint between the put bid and put ask price\")\n",
    "            >,\n",
    "            sampling_key NUMERIC NOT NULL OPTIONS(description=\"a random number between 0 and 1. Facilitates repeatable data sampling without the need for a hash key\")\n",
    "        )\n",
    "        PARTITION BY quote_date\n",
    "        CLUSTER BY expiry_date\n",
    "        OPTIONS\n",
    "            (description=\"DAILY STOCK OPTION QUOTES\")\n",
    "        \"\"\"\n",
    "    job = bq_client.query(schema.format(underlying_symbol))\n",
    "    print(\"Table {} has been created in dataset option_quotes\".format(underlying_symbol))\n",
    "    "
   ]
  }
 ],
 "metadata": {
  "environment": {
   "name": "tf2-2-3-gpu.2-3.m55",
   "type": "gcloud",
   "uri": "gcr.io/deeplearning-platform-release/tf2-2-3-gpu.2-3:m55"
  },
  "kernelspec": {
   "display_name": "Python 3",
   "language": "python",
   "name": "python3"
  },
  "language_info": {
   "codemirror_mode": {
    "name": "ipython",
    "version": 3
   },
   "file_extension": ".py",
   "mimetype": "text/x-python",
   "name": "python",
   "nbconvert_exporter": "python",
   "pygments_lexer": "ipython3",
   "version": "3.7.8"
  }
 },
 "nbformat": 4,
 "nbformat_minor": 4
}
