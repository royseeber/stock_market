{
 "cells": [
  {
   "cell_type": "markdown",
   "metadata": {},
   "source": [
    "### BigQuery Table Definitions for Stock Market Project\n"
   ]
  },
  {
   "cell_type": "code",
   "execution_count": 23,
   "metadata": {},
   "outputs": [],
   "source": [
    "#assign dependencies and constants\n",
    "from google.cloud import bigquery\n",
    "\n",
    "PROJECT_ID = 'expiry-week'\n",
    "bq_client = bigquery.Client(project=PROJECT)\n"
   ]
  },
  {
   "cell_type": "code",
   "execution_count": 5,
   "metadata": {},
   "outputs": [],
   "source": [
    "def create_bq_option_quote_table(stock_symbol):\n",
    "    \"\"\"\n",
    "    Create a BigQuery table in the stock_options dataset for the supplied symbol\n",
    "    \"\"\"\n",
    "    client = bigquery.Client()\n",
    "    dataset_ref = client.dataset('option_quotes')\n",
    "\n",
    "    schema = [\n",
    "        bigquery.SchemaField(\"quote_date\", \"DATE\", mode=\"REQUIRED\", description=\"market closing date for which the data was captured\"),\n",
    "        bigquery.SchemaField(\"expiry_date\", \"DATE\", mode=\"REQUIRED\", description=\"date on which the options expiry\"),\n",
    "        bigquery.SchemaField(\"days_to_expiry\", \"INT64\", mode=\"REQUIRED\", description=\"calendar days between quote_date and expiry_date not including the quote_date\"),\n",
    "        bigquery.SchemaField(\"underlying_price\", \"NUMERIC\", mode=\"REQUIRED\", description=\"the closing price of the underlying asset\"),\n",
    "        bigquery.SchemaField(\"atm_price\", \"NUMERIC\", mode=\"REQUIRED\", description=\"adjusted underlying price such that the implied volatility of calls an puts are the same\"),\n",
    "        bigquery.SchemaField(\"atm_iv\", \"NUMERIC\", mode=\"REQUIRED\", description=\"the implied volatility for both calls and puts using the atm_price as the current price\"),\n",
    "        bigquery.SchemaField(\n",
    "            \"strike_prices\",\n",
    "            \"RECORD\",\n",
    "            mode=\"REPEATED\",\n",
    "            fields=[\n",
    "                bigquery.SchemaField(\"strike_price\", \"NUMERIC\", mode=\"REQUIRED\", description=\"price at which an option can be excercised\"),\n",
    "                bigquery.SchemaField(\"call_bid\", \"NUMERIC\", mode=\"REQUIRED\", description=\"closing bid price for the call option\"),\n",
    "                bigquery.SchemaField(\"call_ask\", \"NUMERIC\", mode=\"REQUIRED\", description=\"closing ask price for the call option\"),\n",
    "                bigquery.SchemaField(\"call_volume\", \"NUMERIC\", mode=\"REQUIRED\", description=\"number of call contracts traded\"),\n",
    "                bigquery.SchemaField(\"call_open_interest\", \"NUMERIC\", mode=\"REQUIRED\", description=\"number of open call contracts\"),\n",
    "                bigquery.SchemaField(\"call_moneyness\", \"NUMERIC\", mode=\"REQUIRED\", description=\"probability of call option closing in the money on expiry date (based on atm_iv)\"),\n",
    "                bigquery.SchemaField(\"call_iv\", \"NUMERIC\", mode=\"REQUIRED\", description=\"implied volatiity of the call option using the midpoint between the call bid and call ask price\"),\n",
    "                bigquery.SchemaField(\"put_bid\", \"NUMERIC\", mode=\"REQUIRED\", description=\"closing bid price for the put option\"),\n",
    "                bigquery.SchemaField(\"put_ask\", \"NUMERIC\", mode=\"REQUIRED\", description=\"closing ask price for the put option\"),\n",
    "                bigquery.SchemaField(\"put_volume\", \"NUMERIC\", mode=\"REQUIRED\", description=\"number of put contracts traded\"),\n",
    "                bigquery.SchemaField(\"put_open_interest\", \"NUMERIC\", mode=\"REQUIRED\", description=\"number of open call contracts\"),\n",
    "                bigquery.SchemaField(\"put_moneyness\", \"NUMERIC\", mode=\"REQUIRED\", description=\"probability of put option closing in the money on expiry date (based on atm_iv)\"),\n",
    "                bigquery.SchemaField(\"put_iv\", \"NUMERIC\", mode=\"REQUIRED\", description=\"implied volatiity of the put option using the midpoint between the put bid and put ask price\"),\n",
    "            ],\n",
    "        ),\n",
    "        bigquery.SchemaField(\"sampling_key\", \"NUMERIC\", mode=\"REQUIRED\", description=\"a random number between 0 and 1. Facilitates repeatable data sampling without the need for a hash key \")\n",
    "    ]\n",
    "    table_ref = dataset_ref.table(stock_symbol.upper())\n",
    "    table = bigquery.Table(table_ref, schema=schema)\n",
    "    \n",
    "    table.time_partitioning = bigquery.TimePartitioning(\n",
    "        type_=bigquery.TimePartitioningType.DAY,\n",
    "        field=\"quote_date\")\n",
    "   \n",
    "    table = client.create_table(table)  # API request\n",
    "\n",
    "    print(\"Created table {}\".format(table.full_table_id))"
   ]
  },
  {
   "cell_type": "code",
   "execution_count": 10,
   "metadata": {},
   "outputs": [],
   "source": [
    "def create_dataset(dataset_name):\n",
    "    \"\"\"create a dataset in the currently assigned project\"\"\"\n",
    "    dataset_id = \"{}.{}\".format(PROJECT_ID, dataset_name)\n",
    "    dataset = bigquery.Dataset(dataset_id)\n",
    "    dataset.location = 'US'\n",
    "    dataset = bq_client.create_dataset(dataset, timeout=30)\n",
    "    print(\"Dataset {} has been created\".format(dataset_id))\n",
    "    "
   ]
  },
  {
   "cell_type": "code",
   "execution_count": 26,
   "metadata": {},
   "outputs": [],
   "source": [
    "def create_option_quote_table(underlying_symbol):\n",
    "    \"\"\"\n",
    "    Create a BigQuery table in the option_quotes dataset for the supplied underlying symbol\n",
    "    \"\"\"\n",
    "    schema = \"\"\"\n",
    "        CREATE TABLE IF NOT EXISTS expiry-week.option_quotes.{}\n",
    "        (\n",
    "            quote_date DATE NOT NULL OPTIONS(description=\"market closing date for which the data was captured\"),  \n",
    "            expiry_date DATE NOT NULL OPTIONS(description=\"date on which the options expire\"),\n",
    "            days_to_expiry INT64 NOT NULL OPTIONS(description=\"calendar days between quote_date and expiry_date not including the quote_date\"),\n",
    "            underlying_price NUMERIC NOT NULL OPTIONS(description=\"the closing price of the underlying asset\"),\n",
    "            atm_price NUMERIC NOT NULL OPTIONS(description=\"adjusted underlying price such that the implied volatility of calls an puts are the same\"),\n",
    "            atm_iv NUMERIC NOT NULL OPTIONS(description=\"the implied volatility for both calls and puts using the atm_price as the current price\"),\n",
    "            strike_prices STRUCT\n",
    "            <\n",
    "                strike_price NUMERIC NOT NULL OPTIONS(description=\"price at which an option can be excercised\"),\n",
    "                call_bid NUMERIC NOT NULL OPTIONS(description=\"closing bid price for the call option\"),\n",
    "                call_ask NUMERIC NOT NULL OPTIONS(description=\"closing ask price for the call option\"),\n",
    "                call_volume NUMERIC NOT NULL OPTIONS(description=\"number of call contracts traded\"),\n",
    "                call_open_interest NUMERIC OPTIONS(description=\"number of open call contracts\"),\n",
    "                call_moneyness NUMERIC NOT NULL OPTIONS(description=\"probability of call option closing in the money on expiry date (based on atm_iv)\"),\n",
    "                call_iv NUMERIC NOT NULL OPTIONS(description=\"implied volatiity of the call option using the midpoint between the call bid and call ask price\"),\n",
    "                put_bid NUMERIC NOT NULL OPTIONS(description=\"closing bid price for the put option\"),\n",
    "                put_ask NUMERIC NOT NULL OPTIONS(description=\"closing ask price for the put option\"),\n",
    "                put_volume NUMERIC NOT NULL OPTIONS(description=\"number of put contracts traded\"),\n",
    "                put_open_interest NUMERIC NOT NULL OPTIONS(description=\"number of open call contracts\"),\n",
    "                put_moneyness NUMERIC NOT NULL OPTIONS(description=\"probability of put option closing in the money on expiry date (based on atm_iv)\"),\n",
    "                put_iv NUMERIC NOT NULL OPTIONS(description=\"implied volatiity of the put option using the midpoint between the put bid and put ask price\")\n",
    "            >,\n",
    "            sampling_key NUMERIC NOT NULL OPTIONS(description=\"a random number between 0 and 1. Facilitates repeatable data sampling without the need for a hash key\")\n",
    "        )\n",
    "        PARTITION BY quote_date\n",
    "        CLUSTER BY expiry_date\n",
    "        OPTIONS\n",
    "            (description=\"DAILY STOCK OPTION QUOTES\")\n",
    "        \"\"\"\n",
    "    job = bq_client.query(schema.format(underlying_symbol))\n",
    "    job.results()\n",
    "    print(\"Table {} has been created in dataset option_quotes\".format(underlying_symbol))\n",
    "    "
   ]
  },
  {
   "cell_type": "code",
   "execution_count": null,
   "metadata": {},
   "outputs": [],
   "source": []
  },
  {
   "cell_type": "code",
   "execution_count": 27,
   "metadata": {},
   "outputs": [
    {
     "ename": "BadRequest",
     "evalue": "400 POST https://bigquery.googleapis.com/bigquery/v2/projects/expiry_week/jobs: Invalid project ID 'expiry_week'. Project IDs must contain 6-63 lowercase letters, digits, or dashes. Some project IDs also include domain name separated by a colon. IDs must start with a letter and may not end with a dash.\n\n(job ID: a204136c-9085-477e-8205-5e3845ca41b1)\n\n                                                                      -----Query Job SQL Follows-----                                                                      \n\n    |    .    |    .    |    .    |    .    |    .    |    .    |    .    |    .    |    .    |    .    |    .    |    .    |    .    |    .    |    .    |    .    |\n   1:\n   2:        CREATE TABLE IF NOT EXISTS expiry-week.option_quotes.SPY\n   3:        (\n   4:            quote_date DATE NOT NULL OPTIONS(description=\"market closing date for which the data was captured\"),  \n   5:            expiry_date DATE NOT NULL OPTIONS(description=\"date on which the options expire\"),\n   6:            days_to_expiry INT64 NOT NULL OPTIONS(description=\"calendar days between quote_date and expiry_date not including the quote_date\"),\n   7:            underlying_price NUMERIC NOT NULL OPTIONS(description=\"the closing price of the underlying asset\"),\n   8:            atm_price NUMERIC NOT NULL OPTIONS(description=\"adjusted underlying price such that the implied volatility of calls an puts are the same\"),\n   9:            atm_iv NUMERIC NOT NULL OPTIONS(description=\"the implied volatility for both calls and puts using the atm_price as the current price\"),\n  10:            strike_prices STRUCT\n  11:            <\n  12:                strike_price NUMERIC NOT NULL OPTIONS(description=\"price at which an option can be excercised\"),\n  13:                call_bid NUMERIC NOT NULL OPTIONS(description=\"closing bid price for the call option\"),\n  14:                call_ask NUMERIC NOT NULL OPTIONS(description=\"closing ask price for the call option\"),\n  15:                call_volume NUMERIC NOT NULL OPTIONS(description=\"number of call contracts traded\"),\n  16:                call_open_interest NUMERIC OPTIONS(description=\"number of open call contracts\"),\n  17:                call_moneyness NUMERIC NOT NULL OPTIONS(description=\"probability of call option closing in the money on expiry date (based on atm_iv)\"),\n  18:                call_iv NUMERIC NOT NULL OPTIONS(description=\"implied volatiity of the call option using the midpoint between the call bid and call ask price\"),\n  19:                put_bid NUMERIC NOT NULL OPTIONS(description=\"closing bid price for the put option\"),\n  20:                put_ask NUMERIC NOT NULL OPTIONS(description=\"closing ask price for the put option\"),\n  21:                put_volume NUMERIC NOT NULL OPTIONS(description=\"number of put contracts traded\"),\n  22:                put_open_interest NUMERIC NOT NULL OPTIONS(description=\"number of open call contracts\"),\n  23:                put_moneyness NUMERIC NOT NULL OPTIONS(description=\"probability of put option closing in the money on expiry date (based on atm_iv)\"),\n  24:                put_iv NUMERIC NOT NULL OPTIONS(description=\"implied volatiity of the put option using the midpoint between the put bid and put ask price\")\n  25:            >,\n  26:            sampling_key NUMERIC NOT NULL OPTIONS(description=\"a random number between 0 and 1. Facilitates repeatable data sampling without the need for a hash key\")\n  27:        )\n  28:        PARTITION BY quote_date\n  29:        CLUSTER BY expiry_date\n  30:        OPTIONS\n  31:            (description=\"DAILY STOCK OPTION QUOTES\")\n  32:        \n    |    .    |    .    |    .    |    .    |    .    |    .    |    .    |    .    |    .    |    .    |    .    |    .    |    .    |    .    |    .    |    .    |",
     "output_type": "error",
     "traceback": [
      "\u001b[0;31m---------------------------------------------------------------------------\u001b[0m",
      "\u001b[0;31mBadRequest\u001b[0m                                Traceback (most recent call last)",
      "\u001b[0;32m<ipython-input-27-431cd29ad965>\u001b[0m in \u001b[0;36m<module>\u001b[0;34m\u001b[0m\n\u001b[0;32m----> 1\u001b[0;31m \u001b[0mcreate_option_quote_table\u001b[0m\u001b[0;34m(\u001b[0m\u001b[0;34m'SPY'\u001b[0m\u001b[0;34m)\u001b[0m\u001b[0;34m\u001b[0m\u001b[0;34m\u001b[0m\u001b[0m\n\u001b[0m",
      "\u001b[0;32m<ipython-input-26-a84ecec3ef81>\u001b[0m in \u001b[0;36mcreate_option_quote_table\u001b[0;34m(underlying_symbol)\u001b[0m\n\u001b[1;32m     35\u001b[0m             \u001b[0;34m(\u001b[0m\u001b[0mdescription\u001b[0m\u001b[0;34m=\u001b[0m\u001b[0;34m\"DAILY STOCK OPTION QUOTES\"\u001b[0m\u001b[0;34m)\u001b[0m\u001b[0;34m\u001b[0m\u001b[0;34m\u001b[0m\u001b[0m\n\u001b[1;32m     36\u001b[0m         \"\"\"\n\u001b[0;32m---> 37\u001b[0;31m     \u001b[0mjob\u001b[0m \u001b[0;34m=\u001b[0m \u001b[0mbq_client\u001b[0m\u001b[0;34m.\u001b[0m\u001b[0mquery\u001b[0m\u001b[0;34m(\u001b[0m\u001b[0mschema\u001b[0m\u001b[0;34m.\u001b[0m\u001b[0mformat\u001b[0m\u001b[0;34m(\u001b[0m\u001b[0munderlying_symbol\u001b[0m\u001b[0;34m)\u001b[0m\u001b[0;34m)\u001b[0m\u001b[0;34m\u001b[0m\u001b[0;34m\u001b[0m\u001b[0m\n\u001b[0m\u001b[1;32m     38\u001b[0m     \u001b[0mjob\u001b[0m\u001b[0;34m.\u001b[0m\u001b[0mresults\u001b[0m\u001b[0;34m(\u001b[0m\u001b[0;34m)\u001b[0m\u001b[0;34m\u001b[0m\u001b[0;34m\u001b[0m\u001b[0m\n\u001b[1;32m     39\u001b[0m     \u001b[0mprint\u001b[0m\u001b[0;34m(\u001b[0m\u001b[0;34m\"Table {} has been created in dataset option_quotes\"\u001b[0m\u001b[0;34m.\u001b[0m\u001b[0mformat\u001b[0m\u001b[0;34m(\u001b[0m\u001b[0munderlying_symbol\u001b[0m\u001b[0;34m)\u001b[0m\u001b[0;34m)\u001b[0m\u001b[0;34m\u001b[0m\u001b[0;34m\u001b[0m\u001b[0m\n",
      "\u001b[0;32m/opt/conda/lib/python3.7/site-packages/google/cloud/bigquery/client.py\u001b[0m in \u001b[0;36mquery\u001b[0;34m(self, query, job_config, job_id, job_id_prefix, location, project, retry, timeout)\u001b[0m\n\u001b[1;32m   2469\u001b[0m         \u001b[0mjob_ref\u001b[0m \u001b[0;34m=\u001b[0m \u001b[0mjob\u001b[0m\u001b[0;34m.\u001b[0m\u001b[0m_JobReference\u001b[0m\u001b[0;34m(\u001b[0m\u001b[0mjob_id\u001b[0m\u001b[0;34m,\u001b[0m \u001b[0mproject\u001b[0m\u001b[0;34m=\u001b[0m\u001b[0mproject\u001b[0m\u001b[0;34m,\u001b[0m \u001b[0mlocation\u001b[0m\u001b[0;34m=\u001b[0m\u001b[0mlocation\u001b[0m\u001b[0;34m)\u001b[0m\u001b[0;34m\u001b[0m\u001b[0;34m\u001b[0m\u001b[0m\n\u001b[1;32m   2470\u001b[0m         \u001b[0mquery_job\u001b[0m \u001b[0;34m=\u001b[0m \u001b[0mjob\u001b[0m\u001b[0;34m.\u001b[0m\u001b[0mQueryJob\u001b[0m\u001b[0;34m(\u001b[0m\u001b[0mjob_ref\u001b[0m\u001b[0;34m,\u001b[0m \u001b[0mquery\u001b[0m\u001b[0;34m,\u001b[0m \u001b[0mclient\u001b[0m\u001b[0;34m=\u001b[0m\u001b[0mself\u001b[0m\u001b[0;34m,\u001b[0m \u001b[0mjob_config\u001b[0m\u001b[0;34m=\u001b[0m\u001b[0mjob_config\u001b[0m\u001b[0;34m)\u001b[0m\u001b[0;34m\u001b[0m\u001b[0;34m\u001b[0m\u001b[0m\n\u001b[0;32m-> 2471\u001b[0;31m         \u001b[0mquery_job\u001b[0m\u001b[0;34m.\u001b[0m\u001b[0m_begin\u001b[0m\u001b[0;34m(\u001b[0m\u001b[0mretry\u001b[0m\u001b[0;34m=\u001b[0m\u001b[0mretry\u001b[0m\u001b[0;34m,\u001b[0m \u001b[0mtimeout\u001b[0m\u001b[0;34m=\u001b[0m\u001b[0mtimeout\u001b[0m\u001b[0;34m)\u001b[0m\u001b[0;34m\u001b[0m\u001b[0;34m\u001b[0m\u001b[0m\n\u001b[0m\u001b[1;32m   2472\u001b[0m \u001b[0;34m\u001b[0m\u001b[0m\n\u001b[1;32m   2473\u001b[0m         \u001b[0;32mreturn\u001b[0m \u001b[0mquery_job\u001b[0m\u001b[0;34m\u001b[0m\u001b[0;34m\u001b[0m\u001b[0m\n",
      "\u001b[0;32m/opt/conda/lib/python3.7/site-packages/google/cloud/bigquery/job.py\u001b[0m in \u001b[0;36m_begin\u001b[0;34m(self, client, retry, timeout)\u001b[0m\n\u001b[1;32m   3154\u001b[0m \u001b[0;34m\u001b[0m\u001b[0m\n\u001b[1;32m   3155\u001b[0m         \u001b[0;32mtry\u001b[0m\u001b[0;34m:\u001b[0m\u001b[0;34m\u001b[0m\u001b[0;34m\u001b[0m\u001b[0m\n\u001b[0;32m-> 3156\u001b[0;31m             \u001b[0msuper\u001b[0m\u001b[0;34m(\u001b[0m\u001b[0mQueryJob\u001b[0m\u001b[0;34m,\u001b[0m \u001b[0mself\u001b[0m\u001b[0;34m)\u001b[0m\u001b[0;34m.\u001b[0m\u001b[0m_begin\u001b[0m\u001b[0;34m(\u001b[0m\u001b[0mclient\u001b[0m\u001b[0;34m=\u001b[0m\u001b[0mclient\u001b[0m\u001b[0;34m,\u001b[0m \u001b[0mretry\u001b[0m\u001b[0;34m=\u001b[0m\u001b[0mretry\u001b[0m\u001b[0;34m,\u001b[0m \u001b[0mtimeout\u001b[0m\u001b[0;34m=\u001b[0m\u001b[0mtimeout\u001b[0m\u001b[0;34m)\u001b[0m\u001b[0;34m\u001b[0m\u001b[0;34m\u001b[0m\u001b[0m\n\u001b[0m\u001b[1;32m   3157\u001b[0m         \u001b[0;32mexcept\u001b[0m \u001b[0mexceptions\u001b[0m\u001b[0;34m.\u001b[0m\u001b[0mGoogleCloudError\u001b[0m \u001b[0;32mas\u001b[0m \u001b[0mexc\u001b[0m\u001b[0;34m:\u001b[0m\u001b[0;34m\u001b[0m\u001b[0;34m\u001b[0m\u001b[0m\n\u001b[1;32m   3158\u001b[0m             \u001b[0mexc\u001b[0m\u001b[0;34m.\u001b[0m\u001b[0mmessage\u001b[0m \u001b[0;34m+=\u001b[0m \u001b[0mself\u001b[0m\u001b[0;34m.\u001b[0m\u001b[0m_format_for_exception\u001b[0m\u001b[0;34m(\u001b[0m\u001b[0mself\u001b[0m\u001b[0;34m.\u001b[0m\u001b[0mquery\u001b[0m\u001b[0;34m,\u001b[0m \u001b[0mself\u001b[0m\u001b[0;34m.\u001b[0m\u001b[0mjob_id\u001b[0m\u001b[0;34m)\u001b[0m\u001b[0;34m\u001b[0m\u001b[0;34m\u001b[0m\u001b[0m\n",
      "\u001b[0;32m/opt/conda/lib/python3.7/site-packages/google/cloud/bigquery/job.py\u001b[0m in \u001b[0;36m_begin\u001b[0;34m(self, client, retry, timeout)\u001b[0m\n\u001b[1;32m    636\u001b[0m         \u001b[0;31m# job has an ID.\u001b[0m\u001b[0;34m\u001b[0m\u001b[0;34m\u001b[0m\u001b[0;34m\u001b[0m\u001b[0m\n\u001b[1;32m    637\u001b[0m         api_response = client._call_api(\n\u001b[0;32m--> 638\u001b[0;31m             \u001b[0mretry\u001b[0m\u001b[0;34m,\u001b[0m \u001b[0mmethod\u001b[0m\u001b[0;34m=\u001b[0m\u001b[0;34m\"POST\"\u001b[0m\u001b[0;34m,\u001b[0m \u001b[0mpath\u001b[0m\u001b[0;34m=\u001b[0m\u001b[0mpath\u001b[0m\u001b[0;34m,\u001b[0m \u001b[0mdata\u001b[0m\u001b[0;34m=\u001b[0m\u001b[0mself\u001b[0m\u001b[0;34m.\u001b[0m\u001b[0mto_api_repr\u001b[0m\u001b[0;34m(\u001b[0m\u001b[0;34m)\u001b[0m\u001b[0;34m,\u001b[0m \u001b[0mtimeout\u001b[0m\u001b[0;34m=\u001b[0m\u001b[0mtimeout\u001b[0m\u001b[0;34m\u001b[0m\u001b[0;34m\u001b[0m\u001b[0m\n\u001b[0m\u001b[1;32m    639\u001b[0m         )\n\u001b[1;32m    640\u001b[0m         \u001b[0mself\u001b[0m\u001b[0;34m.\u001b[0m\u001b[0m_set_properties\u001b[0m\u001b[0;34m(\u001b[0m\u001b[0mapi_response\u001b[0m\u001b[0;34m)\u001b[0m\u001b[0;34m\u001b[0m\u001b[0;34m\u001b[0m\u001b[0m\n",
      "\u001b[0;32m/opt/conda/lib/python3.7/site-packages/google/cloud/bigquery/client.py\u001b[0m in \u001b[0;36m_call_api\u001b[0;34m(self, retry, **kwargs)\u001b[0m\n\u001b[1;32m    572\u001b[0m         \u001b[0;32mif\u001b[0m \u001b[0mretry\u001b[0m\u001b[0;34m:\u001b[0m\u001b[0;34m\u001b[0m\u001b[0;34m\u001b[0m\u001b[0m\n\u001b[1;32m    573\u001b[0m             \u001b[0mcall\u001b[0m \u001b[0;34m=\u001b[0m \u001b[0mretry\u001b[0m\u001b[0;34m(\u001b[0m\u001b[0mcall\u001b[0m\u001b[0;34m)\u001b[0m\u001b[0;34m\u001b[0m\u001b[0;34m\u001b[0m\u001b[0m\n\u001b[0;32m--> 574\u001b[0;31m         \u001b[0;32mreturn\u001b[0m \u001b[0mcall\u001b[0m\u001b[0;34m(\u001b[0m\u001b[0;34m)\u001b[0m\u001b[0;34m\u001b[0m\u001b[0;34m\u001b[0m\u001b[0m\n\u001b[0m\u001b[1;32m    575\u001b[0m \u001b[0;34m\u001b[0m\u001b[0m\n\u001b[1;32m    576\u001b[0m     \u001b[0;32mdef\u001b[0m \u001b[0mget_dataset\u001b[0m\u001b[0;34m(\u001b[0m\u001b[0mself\u001b[0m\u001b[0;34m,\u001b[0m \u001b[0mdataset_ref\u001b[0m\u001b[0;34m,\u001b[0m \u001b[0mretry\u001b[0m\u001b[0;34m=\u001b[0m\u001b[0mDEFAULT_RETRY\u001b[0m\u001b[0;34m,\u001b[0m \u001b[0mtimeout\u001b[0m\u001b[0;34m=\u001b[0m\u001b[0;32mNone\u001b[0m\u001b[0;34m)\u001b[0m\u001b[0;34m:\u001b[0m\u001b[0;34m\u001b[0m\u001b[0;34m\u001b[0m\u001b[0m\n",
      "\u001b[0;32m/opt/conda/lib/python3.7/site-packages/google/api_core/retry.py\u001b[0m in \u001b[0;36mretry_wrapped_func\u001b[0;34m(*args, **kwargs)\u001b[0m\n\u001b[1;32m    284\u001b[0m                 \u001b[0msleep_generator\u001b[0m\u001b[0;34m,\u001b[0m\u001b[0;34m\u001b[0m\u001b[0;34m\u001b[0m\u001b[0m\n\u001b[1;32m    285\u001b[0m                 \u001b[0mself\u001b[0m\u001b[0;34m.\u001b[0m\u001b[0m_deadline\u001b[0m\u001b[0;34m,\u001b[0m\u001b[0;34m\u001b[0m\u001b[0;34m\u001b[0m\u001b[0m\n\u001b[0;32m--> 286\u001b[0;31m                 \u001b[0mon_error\u001b[0m\u001b[0;34m=\u001b[0m\u001b[0mon_error\u001b[0m\u001b[0;34m,\u001b[0m\u001b[0;34m\u001b[0m\u001b[0;34m\u001b[0m\u001b[0m\n\u001b[0m\u001b[1;32m    287\u001b[0m             )\n\u001b[1;32m    288\u001b[0m \u001b[0;34m\u001b[0m\u001b[0m\n",
      "\u001b[0;32m/opt/conda/lib/python3.7/site-packages/google/api_core/retry.py\u001b[0m in \u001b[0;36mretry_target\u001b[0;34m(target, predicate, sleep_generator, deadline, on_error)\u001b[0m\n\u001b[1;32m    182\u001b[0m     \u001b[0;32mfor\u001b[0m \u001b[0msleep\u001b[0m \u001b[0;32min\u001b[0m \u001b[0msleep_generator\u001b[0m\u001b[0;34m:\u001b[0m\u001b[0;34m\u001b[0m\u001b[0;34m\u001b[0m\u001b[0m\n\u001b[1;32m    183\u001b[0m         \u001b[0;32mtry\u001b[0m\u001b[0;34m:\u001b[0m\u001b[0;34m\u001b[0m\u001b[0;34m\u001b[0m\u001b[0m\n\u001b[0;32m--> 184\u001b[0;31m             \u001b[0;32mreturn\u001b[0m \u001b[0mtarget\u001b[0m\u001b[0;34m(\u001b[0m\u001b[0;34m)\u001b[0m\u001b[0;34m\u001b[0m\u001b[0;34m\u001b[0m\u001b[0m\n\u001b[0m\u001b[1;32m    185\u001b[0m \u001b[0;34m\u001b[0m\u001b[0m\n\u001b[1;32m    186\u001b[0m         \u001b[0;31m# pylint: disable=broad-except\u001b[0m\u001b[0;34m\u001b[0m\u001b[0;34m\u001b[0m\u001b[0;34m\u001b[0m\u001b[0m\n",
      "\u001b[0;32m/opt/conda/lib/python3.7/site-packages/google/cloud/_http.py\u001b[0m in \u001b[0;36mapi_request\u001b[0;34m(self, method, path, query_params, data, content_type, headers, api_base_url, api_version, expect_json, _target_object, timeout)\u001b[0m\n\u001b[1;32m    421\u001b[0m \u001b[0;34m\u001b[0m\u001b[0m\n\u001b[1;32m    422\u001b[0m         \u001b[0;32mif\u001b[0m \u001b[0;32mnot\u001b[0m \u001b[0;36m200\u001b[0m \u001b[0;34m<=\u001b[0m \u001b[0mresponse\u001b[0m\u001b[0;34m.\u001b[0m\u001b[0mstatus_code\u001b[0m \u001b[0;34m<\u001b[0m \u001b[0;36m300\u001b[0m\u001b[0;34m:\u001b[0m\u001b[0;34m\u001b[0m\u001b[0;34m\u001b[0m\u001b[0m\n\u001b[0;32m--> 423\u001b[0;31m             \u001b[0;32mraise\u001b[0m \u001b[0mexceptions\u001b[0m\u001b[0;34m.\u001b[0m\u001b[0mfrom_http_response\u001b[0m\u001b[0;34m(\u001b[0m\u001b[0mresponse\u001b[0m\u001b[0;34m)\u001b[0m\u001b[0;34m\u001b[0m\u001b[0;34m\u001b[0m\u001b[0m\n\u001b[0m\u001b[1;32m    424\u001b[0m \u001b[0;34m\u001b[0m\u001b[0m\n\u001b[1;32m    425\u001b[0m         \u001b[0;32mif\u001b[0m \u001b[0mexpect_json\u001b[0m \u001b[0;32mand\u001b[0m \u001b[0mresponse\u001b[0m\u001b[0;34m.\u001b[0m\u001b[0mcontent\u001b[0m\u001b[0;34m:\u001b[0m\u001b[0;34m\u001b[0m\u001b[0;34m\u001b[0m\u001b[0m\n",
      "\u001b[0;31mBadRequest\u001b[0m: 400 POST https://bigquery.googleapis.com/bigquery/v2/projects/expiry_week/jobs: Invalid project ID 'expiry_week'. Project IDs must contain 6-63 lowercase letters, digits, or dashes. Some project IDs also include domain name separated by a colon. IDs must start with a letter and may not end with a dash.\n\n(job ID: a204136c-9085-477e-8205-5e3845ca41b1)\n\n                                                                      -----Query Job SQL Follows-----                                                                      \n\n    |    .    |    .    |    .    |    .    |    .    |    .    |    .    |    .    |    .    |    .    |    .    |    .    |    .    |    .    |    .    |    .    |\n   1:\n   2:        CREATE TABLE IF NOT EXISTS expiry-week.option_quotes.SPY\n   3:        (\n   4:            quote_date DATE NOT NULL OPTIONS(description=\"market closing date for which the data was captured\"),  \n   5:            expiry_date DATE NOT NULL OPTIONS(description=\"date on which the options expire\"),\n   6:            days_to_expiry INT64 NOT NULL OPTIONS(description=\"calendar days between quote_date and expiry_date not including the quote_date\"),\n   7:            underlying_price NUMERIC NOT NULL OPTIONS(description=\"the closing price of the underlying asset\"),\n   8:            atm_price NUMERIC NOT NULL OPTIONS(description=\"adjusted underlying price such that the implied volatility of calls an puts are the same\"),\n   9:            atm_iv NUMERIC NOT NULL OPTIONS(description=\"the implied volatility for both calls and puts using the atm_price as the current price\"),\n  10:            strike_prices STRUCT\n  11:            <\n  12:                strike_price NUMERIC NOT NULL OPTIONS(description=\"price at which an option can be excercised\"),\n  13:                call_bid NUMERIC NOT NULL OPTIONS(description=\"closing bid price for the call option\"),\n  14:                call_ask NUMERIC NOT NULL OPTIONS(description=\"closing ask price for the call option\"),\n  15:                call_volume NUMERIC NOT NULL OPTIONS(description=\"number of call contracts traded\"),\n  16:                call_open_interest NUMERIC OPTIONS(description=\"number of open call contracts\"),\n  17:                call_moneyness NUMERIC NOT NULL OPTIONS(description=\"probability of call option closing in the money on expiry date (based on atm_iv)\"),\n  18:                call_iv NUMERIC NOT NULL OPTIONS(description=\"implied volatiity of the call option using the midpoint between the call bid and call ask price\"),\n  19:                put_bid NUMERIC NOT NULL OPTIONS(description=\"closing bid price for the put option\"),\n  20:                put_ask NUMERIC NOT NULL OPTIONS(description=\"closing ask price for the put option\"),\n  21:                put_volume NUMERIC NOT NULL OPTIONS(description=\"number of put contracts traded\"),\n  22:                put_open_interest NUMERIC NOT NULL OPTIONS(description=\"number of open call contracts\"),\n  23:                put_moneyness NUMERIC NOT NULL OPTIONS(description=\"probability of put option closing in the money on expiry date (based on atm_iv)\"),\n  24:                put_iv NUMERIC NOT NULL OPTIONS(description=\"implied volatiity of the put option using the midpoint between the put bid and put ask price\")\n  25:            >,\n  26:            sampling_key NUMERIC NOT NULL OPTIONS(description=\"a random number between 0 and 1. Facilitates repeatable data sampling without the need for a hash key\")\n  27:        )\n  28:        PARTITION BY quote_date\n  29:        CLUSTER BY expiry_date\n  30:        OPTIONS\n  31:            (description=\"DAILY STOCK OPTION QUOTES\")\n  32:        \n    |    .    |    .    |    .    |    .    |    .    |    .    |    .    |    .    |    .    |    .    |    .    |    .    |    .    |    .    |    .    |    .    |"
     ]
    }
   ],
   "source": [
    "create_option_quote_table('SPY')"
   ]
  },
  {
   "cell_type": "code",
   "execution_count": 16,
   "metadata": {},
   "outputs": [
    {
     "name": "stderr",
     "output_type": "stream",
     "text": [
      "UsageError: Line magic function `%bq` not found.\n"
     ]
    }
   ],
   "source": [
    "%bq --version"
   ]
  },
  {
   "cell_type": "code",
   "execution_count": null,
   "metadata": {},
   "outputs": [],
   "source": []
  }
 ],
 "metadata": {
  "environment": {
   "name": "tf2-2-3-gpu.2-3.m55",
   "type": "gcloud",
   "uri": "gcr.io/deeplearning-platform-release/tf2-2-3-gpu.2-3:m55"
  },
  "kernelspec": {
   "display_name": "Python 3",
   "language": "python",
   "name": "python3"
  },
  "language_info": {
   "codemirror_mode": {
    "name": "ipython",
    "version": 3
   },
   "file_extension": ".py",
   "mimetype": "text/x-python",
   "name": "python",
   "nbconvert_exporter": "python",
   "pygments_lexer": "ipython3",
   "version": "3.7.8"
  }
 },
 "nbformat": 4,
 "nbformat_minor": 4
}
